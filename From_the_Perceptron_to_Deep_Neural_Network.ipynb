{
  "cells": [
    {
      "cell_type": "markdown",
      "metadata": {
        "id": "SY5WztYNneGg"
      },
      "source": [
        "# **Deep Learning Homework 1: *from the Perceptron to Deep Neural Network***\n",
        "### MSc Computer Science, Data Science, Cybersecurity @UNIPD\n",
        "### 2nd semester - 6 ECTS\n",
        "### Prof. Alessandro Sperduti, Prof. Nicolò Navarin and Dr. Luca Pasa\n",
        "---"
      ]
    },
    {
      "cell_type": "markdown",
      "metadata": {
        "id": "d8MTQQX3WaFa"
      },
      "source": [
        "In this first homework, we are going to write our own simple feedforward neural network using `Python` and `NumPy` (the standard numeric library for Python). We will start by implementing just a simple neuron, or perceptron, then we define the training algorithm for this simple model.\n",
        "The second part consists in defining a simple neural network to perform classification and regression in real-world cases."
      ]
    },
    {
      "cell_type": "markdown",
      "metadata": {
        "id": "EnhjgoafUY69"
      },
      "source": [
        "## **Important Instructions for Submissions**\n",
        "\n",
        "Generally, in the homeworks, you will be either required to complete a part of Python code or to answer questions in text cells. Code and text cells where you are expected to write your answers have been marked by `%STARTCODE` and `%ENDCODE` or `%STARTEXT` and `%ENDTEXT` tags, respectively. Note that you should never change, move or remove these two tags, otherwise your answers will be __not__ valid. As you will see in this notebook, each cell that includes a `[TO COMPLETE]` part has been put between these placeholders.\n",
        "\n",
        "As an example, if the task is to _\"define a variable named `x` and assign it to number 2\"_, the following answer style is presented:"
      ]
    },
    {
      "cell_type": "markdown",
      "metadata": {
        "id": "1F8KAFuXVp_Y"
      },
      "source": [
        "`%STARTCODE`"
      ]
    },
    {
      "cell_type": "code",
      "execution_count": 631,
      "metadata": {
        "id": "UrBK7IsgUozD"
      },
      "outputs": [],
      "source": [
        "x = 2 # [TO COMPLETE]"
      ]
    },
    {
      "cell_type": "markdown",
      "metadata": {
        "id": "DU5RrnqiVsk9"
      },
      "source": [
        "`%ENDCODE`"
      ]
    },
    {
      "cell_type": "markdown",
      "metadata": {
        "id": "GcAjL4TOWEbn"
      },
      "source": [
        "Similarly, if the task is a question-answering one, the same style is used. As an instance, the proper answer to the question \"How can we import the numpy library in python?\", must seem like the following:"
      ]
    },
    {
      "cell_type": "markdown",
      "metadata": {
        "id": "dvKdI4PBWf4W"
      },
      "source": [
        "`%STARTEXT`"
      ]
    },
    {
      "cell_type": "markdown",
      "metadata": {
        "id": "BylXZkvyWk1c"
      },
      "source": [
        "Answer: **[TO COMLPETE]**\n",
        "\n",
        "In order to do so, we use the keyword `import`, accompanied by the name of the library we would like to add to our notebook."
      ]
    },
    {
      "cell_type": "markdown",
      "metadata": {
        "id": "uA74CJWmWhtM"
      },
      "source": [
        "`%ENDTEXT`"
      ]
    },
    {
      "cell_type": "markdown",
      "metadata": {
        "id": "fmaJhiPFXaXv"
      },
      "source": [
        "As already mentioned, all `%START` and `%END` keywords have already been placed and you just need to be careful not to delete, move or change them. Now let's start with the first homework!"
      ]
    },
    {
      "cell_type": "markdown",
      "metadata": {
        "id": "-bEFm73cYFQy"
      },
      "source": [
        "## Exercise 1.1: Perceptron\n",
        "\n",
        "In this first exercise, we will implement a simple neuron, or perceptron, as described below. We will have just three inputs and one output neuron (we omit the bias term for now).\n",
        "Notice how the perceptron simply performs a sum of the individual inputs multiplied by the corresponding weights mapped through an activation function $\\sigma(\\cdot)$.  This can also be expressed as a dot product of the weight vector $\\textbf{W}$ and the input vector $\\textbf{x}$, thus: $$\\hat{y}=\\sigma(\\textbf{W}^T \\textbf{x})$$"
      ]
    },
    {
      "cell_type": "markdown",
      "metadata": {
        "id": "hDlidWmiYuKB"
      },
      "source": [
        "We will begin by implementing the perceptron by using the [numpy](https://docs.scipy.org/doc/numpy/reference/) library:"
      ]
    },
    {
      "cell_type": "code",
      "execution_count": 632,
      "metadata": {
        "id": "i0UCur_TYckH"
      },
      "outputs": [],
      "source": [
        "import numpy as np"
      ]
    },
    {
      "cell_type": "markdown",
      "metadata": {
        "id": "JQONq1k6Y1Zx"
      },
      "source": [
        "### Training data\n",
        "\n",
        "Let's consider a very simple dataset. The dataset is made of four input vectors $\\textbf{x} \\in \\mathbb{R}^3$ and the corresponding desired target values $y$. In the table below, each row is a single sample; the first three columns are the input vector components, whereas the last column is the target output.\n",
        "\n",
        "||Input $x_i$||Output $y$|\n",
        "|:----:|:---:|:---:|---:|\n",
        "| 1    | 1   | 0   | 1  |\n",
        "| 1    | 0   | 0   | 1  |\n",
        "| 0    | 1   | 0   | 0  |\n",
        "| 0    | 0   | 0   | 0  |\n",
        "\n",
        "Notice that our target outputs are equal to the first component of the input, therefore the task that the model should learn is very simple. We will see how the perceptron is able to learn that starting from this toy dataset.\n",
        "\n",
        "Now let's define the `X` and `y` matrices:"
      ]
    },
    {
      "cell_type": "code",
      "execution_count": 633,
      "metadata": {
        "colab": {
          "base_uri": "https://localhost:8080/"
        },
        "id": "u1FzAUxhY9PA",
        "outputId": "c73966bf-08b9-4460-c47e-b6317506edc9"
      },
      "outputs": [
        {
          "output_type": "stream",
          "name": "stdout",
          "text": [
            "X = [[1 1 0]\n",
            " [1 0 0]\n",
            " [0 1 0]\n",
            " [0 0 0]]\n",
            "y = [[1]\n",
            " [1]\n",
            " [0]\n",
            " [0]]\n"
          ]
        }
      ],
      "source": [
        "# Our input data is a matrix, each row is one input sample\n",
        "X = np.array([[1,1,0],\n",
        "              [1,0,0],\n",
        "              [0,1,0],\n",
        "              [0,0,0]])\n",
        "\n",
        "# The target output is a column vector in 2-D array format (.T means transpose)\n",
        "y = np.array([[1,1,0,0]]).T\n",
        "\n",
        "print('X =', X)\n",
        "print('y =', y)"
      ]
    },
    {
      "cell_type": "markdown",
      "metadata": {
        "id": "z-W8wMnoZH71"
      },
      "source": [
        "### Activation function\n",
        "\n",
        "As we said before, in order to define a perceptron we need to define the activation function $f(\\cdot)$. There are many possibile activation function that can be used, let's plot some of the most common ones:\n",
        "\n",
        "\n"
      ]
    },
    {
      "cell_type": "code",
      "execution_count": 634,
      "metadata": {
        "colab": {
          "base_uri": "https://localhost:8080/",
          "height": 452
        },
        "id": "Fi5ZK9zKZssu",
        "outputId": "08a86373-fe57-414e-fcd4-1c64746d0906"
      },
      "outputs": [
        {
          "output_type": "display_data",
          "data": {
            "text/plain": [
              "<Figure size 640x480 with 1 Axes>"
            ],
            "image/png": "[encoded data removed]"
          },
          "metadata": {}
        }
      ],
      "source": [
        "import matplotlib.pyplot as plt\n",
        "\n",
        "x_axis = np.arange(-4,4,.01)\n",
        "plt.figure()\n",
        "plt.plot(x_axis, np.maximum(x_axis,0), label='ReLu')\n",
        "plt.plot(x_axis, 1/(1+np.exp(-x_axis)), label='Sigmoid')\n",
        "plt.plot(x_axis, np.tanh(x_axis), label='Tanh')\n",
        "plt.axis([-4, 4, -1.1, 1.1])\n",
        "plt.title('Some Activation Functions')\n",
        "plt.grid(True)\n",
        "plt.legend()\n",
        "plt.show()"
      ]
    },
    {
      "cell_type": "markdown",
      "metadata": {
        "id": "jdmJ6-qaZjuZ"
      },
      "source": [
        "In this particular exercise we will use the sigmoid function. So let's define $f(\\cdot)$ as the sigmoid function\n",
        "\n",
        "$$\\sigma(x)=\\frac{1}{1+\\exp^{-x}}$$"
      ]
    },
    {
      "cell_type": "code",
      "execution_count": 635,
      "metadata": {
        "id": "wwnk5RgKZRox"
      },
      "outputs": [],
      "source": [
        "def sigma(x):\n",
        "    # Sigmoid function\n",
        "    return 1 / ( 1 + np.exp(-x) )"
      ]
    },
    {
      "cell_type": "markdown",
      "metadata": {
        "id": "vX-62n3Io0XU"
      },
      "source": [
        "### Weight initialization\n",
        "\n",
        "Now we have to initialise the weights. Let's initialize them randomly, so that their mean is zero. The weights matrix maps the input space into the output space, therefore in our case $\\mathbf{W} \\in \\mathbb{R}^{3 \\times 1}$"
      ]
    },
    {
      "cell_type": "code",
      "execution_count": 636,
      "metadata": {
        "colab": {
          "base_uri": "https://localhost:8080/"
        },
        "id": "9f83YkaNtd5h",
        "outputId": "c79275bf-1ea8-4977-a42e-2fabb1316dd7"
      },
      "outputs": [
        {
          "output_type": "stream",
          "name": "stdout",
          "text": [
            "W = [[ 0.58700537]\n",
            " [-0.50808269]\n",
            " [-0.19114733]]\n"
          ]
        }
      ],
      "source": [
        "# fix random seed generator for reproducibility\n",
        "rng = np.random.default_rng(seed=[42,1])\n",
        "\n",
        "# initialize weights randomly with zero mean and uniformly distributed values in [-1,1]\n",
        "W = 2 * rng.random(size=(3,1)) - 1\n",
        "\n",
        "print('W =', W)"
      ]
    },
    {
      "cell_type": "markdown",
      "metadata": {
        "id": "pZd-aQxAuX49"
      },
      "source": [
        "### Forward propagation\n",
        "\n",
        "Next, let's try to implement one round of forward propagation.  This means taking an input sample and moving it forward through the network, calculating the output of the network eventually.\n",
        "\n",
        "For our single neuron this is simply $\\hat{\\mathbf{y}} = \\sigma(\\mathbf{W}^T \\mathbf{x})$, where $\\mathbf{x}$ is one input vector.\n",
        "\n",
        "Each input sample is arranged as a row of the matrix `X`, therefore we can access the first row by `X[0]`. Let's store it in the variable `X0` for easier access. We'll use `reshape` to make sure it's expressed as a column vector."
      ]
    },
    {
      "cell_type": "code",
      "execution_count": 637,
      "metadata": {
        "colab": {
          "base_uri": "https://localhost:8080/"
        },
        "id": "9gTx4QxUumvQ",
        "outputId": "9ecce676-d977-4cea-d47d-68f9b837aec7"
      },
      "outputs": [
        {
          "output_type": "stream",
          "name": "stdout",
          "text": [
            "X0 = [[1]\n",
            " [1]\n",
            " [0]]\n"
          ]
        }
      ],
      "source": [
        "X0 = np.reshape(X[0], (3,1))\n",
        "print(\"X0 =\", X0)"
      ]
    },
    {
      "cell_type": "markdown",
      "metadata": {
        "id": "IpDCnmxWurjC"
      },
      "source": [
        "The output $\\hat{y}$ for the first input can be calculated according to the formula given above"
      ]
    },
    {
      "cell_type": "code",
      "execution_count": 638,
      "metadata": {
        "colab": {
          "base_uri": "https://localhost:8080/"
        },
        "id": "idDZfTVKuyPf",
        "outputId": "316a441d-9c10-48af-df75-79d9912b2cb0"
      },
      "outputs": [
        {
          "output_type": "stream",
          "name": "stdout",
          "text": [
            "y_out = [[0.51972044]]\n",
            "y[0] = [1]\n"
          ]
        }
      ],
      "source": [
        "y_out = sigma(np.dot(W.T, X0))\n",
        "\n",
        "print('y_out =', y_out)\n",
        "print('y[0] =', y[0])"
      ]
    },
    {
      "cell_type": "markdown",
      "metadata": {
        "id": "Oda3Y3btu8Uz"
      },
      "source": [
        "the target result is stored in `y[0]`.  If you check back, you can see we defined it to be $y_0=1$. You can see that our network is sill far away from the right answer... this is why we need to backpropagate the error, to adjust the weights in the right direction!"
      ]
    },
    {
      "cell_type": "markdown",
      "metadata": {
        "id": "oGvgZCDFu-EM"
      },
      "source": [
        "### Backpropagation\n",
        "\n",
        "The following step is updating the weights by propagating the error backwards in the network.  How this is done depends on the activation function, and namely on its derivative. The activation function of the considered model is the sigmoid, and its derivative is:\n",
        "\n",
        "$$\\sigma(x)'=\\sigma(x) \\cdot (1-\\sigma(x))$$\n",
        "\n",
        "Recall that the weight update in general is given as $\\Delta w_{ji} = -\\epsilon \\delta_j x_i$.\n",
        "Our network has only one layer, so $x_i$ is just the input $\\mathbf{x}$, and a single output neuron so there is no actual need for index $j$.\n",
        "\n",
        "In matrix form we can calculate this for all the weights:\n",
        "\n",
        "$$\\Delta \\textbf{W} = -\\epsilon \\delta \\textbf{x}_0$$\n",
        "where $\\delta$ is the gradient (called `grad` in the following code; see the lecture material for its derivation), $ϵ$ is the learning rate, and $\\textbf{x}_0$ is our first input sample in variable `X0`.\n",
        "\n",
        "Recall that $y$ is the desired output, i.e. `y[0]` in this Python code, and $\\hat{y}$ is our predicted value called `y_out` here."
      ]
    },
    {
      "cell_type": "code",
      "execution_count": 639,
      "metadata": {
        "colab": {
          "base_uri": "https://localhost:8080/"
        },
        "id": "bs0EG3n9ve6J",
        "outputId": "0c024a3f-63c4-465c-f079-c6728b56b080"
      },
      "outputs": [
        {
          "output_type": "stream",
          "name": "stdout",
          "text": [
            "W_delta =  [[0.05994156]\n",
            " [0.05994156]\n",
            " [0.        ]]\n",
            "Updated weights W =  [[ 0.64694693]\n",
            " [-0.44814113]\n",
            " [-0.19114733]]\n"
          ]
        }
      ],
      "source": [
        "# the learning rate determines the step size in the gradient descent, you can experiment with different values if you want\n",
        "learning_rate = 0.5\n",
        "\n",
        "# compute the gradient term\n",
        "grad = (y_out - y[0]) * y_out * (1 - y_out)\n",
        "\n",
        "# Calculate the weight update\n",
        "W_delta = - learning_rate * grad * X0\n",
        "\n",
        "print(\"W_delta = \", W_delta)\n",
        "\n",
        "# Update the weights\n",
        "W += W_delta\n",
        "print(\"Updated weights W = \", W)"
      ]
    },
    {
      "cell_type": "markdown",
      "metadata": {
        "id": "Ha1gJ0n9v2oV"
      },
      "source": [
        "Let's try a forward propagation again with the same input."
      ]
    },
    {
      "cell_type": "code",
      "execution_count": 640,
      "metadata": {
        "colab": {
          "base_uri": "https://localhost:8080/"
        },
        "id": "fh40oHl2v6rs",
        "outputId": "2885508f-fc92-4ba7-efde-e3733bbc71bd"
      },
      "outputs": [
        {
          "output_type": "stream",
          "name": "stdout",
          "text": [
            "y_out_old =  [[0.51972044]]\n",
            "y_out = [[0.5495384]]\n",
            "y[0] = [1]\n"
          ]
        }
      ],
      "source": [
        "print(\"y_out_old = \", y_out) # let's print the values before the update\n",
        "y_out = sigma(np.dot(W.T, X0))\n",
        "\n",
        "print('y_out =', y_out)\n",
        "print('y[0] =', y[0])"
      ]
    },
    {
      "cell_type": "markdown",
      "metadata": {
        "id": "lHc3os_AL54y"
      },
      "source": [
        "You should notice that the result has moved (slightly!) towards the correct answer. In order to converge to the right value we have to perform more iterations!"
      ]
    },
    {
      "cell_type": "markdown",
      "metadata": {
        "id": "8INLy50fyORN"
      },
      "source": [
        "### Q1: Training iterations **[TO COMPLETE]**\n",
        "\n",
        "Let's define a complete training procedure for our model. In each iteration we have to perform the forward propagation, then we'll check how much the output differs from the target and propagate the error back (backward propagation).  We'll do this for each sample data point and then iterate this over and over again using a for loop."
      ]
    },
    {
      "cell_type": "markdown",
      "metadata": {
        "id": "pide_kEzSjEP"
      },
      "source": [
        "`%STARTCODE`"
      ]
    },
    {
      "cell_type": "code",
      "execution_count": 641,
      "metadata": {
        "colab": {
          "base_uri": "https://localhost:8080/"
        },
        "id": "PPXJwQm4ycgH",
        "outputId": "ccedd2ce-6342-4df7-b165-dca5aefb38d3"
      },
      "outputs": [
        {
          "output_type": "stream",
          "name": "stdout",
          "text": [
            "Output after training, y_out =\n",
            "[[0.95164153]\n",
            " [0.99678581]\n",
            " [0.05966936]\n",
            " [0.5       ]]\n",
            "Target output, y =\n",
            "[[1]\n",
            " [1]\n",
            " [0]\n",
            " [0]]\n"
          ]
        }
      ],
      "source": [
        "# For the training we need to iterate over the dataset several times\n",
        "num_iters = 1000\n",
        "\n",
        "# We'll also store the mean square error (MSE) in every round so we can see how it evolves\n",
        "# mse is just an array to store these values at each round:\n",
        "mse = np.zeros(num_iters)\n",
        "\n",
        "# Looping for the iterations\n",
        "for it in range(num_iters):\n",
        "\n",
        "    # For-loop going over each sample in X\n",
        "    for n in range(len(X)):\n",
        "        # Extract the n_th sample and the corresponding desired output\n",
        "        x_n = np.reshape(X[n], (3,1))\n",
        "        # Get the correponding target value\n",
        "        y_target = y[n].item() # item() is needed to treat 1-dim arrays as scalar\n",
        "\n",
        "        # Forward propagation of the n_th sample\n",
        "        y_out = sigma(np.dot(W.T, x_n)).item()\n",
        "\n",
        "        # Let's keep track of the sum of squared errors\n",
        "        mse[it] += np.square(y_target - y_out) # TO COMPLETE compute squared error between y_target and y_out\n",
        "        # compute the gradient\n",
        "        grad = - (y_target - y_out) * y_out * (1 - y_out) # TO COMPLETE\n",
        "\n",
        "        # Calculate the weights update\n",
        "        W_delta = - learning_rate * grad * x_n\n",
        "\n",
        "        # Update the weights\n",
        "        W += W_delta\n",
        "\n",
        "    # Divide by the number of elements to get the mean of the squared errors\n",
        "    mse[it] /= len(X)\n",
        "\n",
        "# Now let's see the output for each input sample with the trained weights\n",
        "# Using batch mode (see next section) we can do this in a single line\n",
        "print(\"Output after training, y_out =\")\n",
        "y_out = sigma(np.dot(X, W))\n",
        "print(y_out)\n",
        "print(\"Target output, y =\")\n",
        "print(y)"
      ]
    },
    {
      "cell_type": "markdown",
      "metadata": {
        "id": "r4TFfm4tSmHl"
      },
      "source": [
        "`%ENDCODE`"
      ]
    },
    {
      "cell_type": "markdown",
      "metadata": {
        "id": "pF3Gu_OpRwJh"
      },
      "source": [
        "### Q2: Fourth sample **[TO COMPLETE]**\n",
        "Why is the estimation for the fourth sample way different than its real label value? What adjustment can you consider to make this sample get classified correctly as well? (You do not have to implement the adjustment)"
      ]
    },
    {
      "cell_type": "markdown",
      "metadata": {
        "id": "0aSKWdX2S3TF"
      },
      "source": [
        "`%STARTEXT`"
      ]
    },
    {
      "cell_type": "markdown",
      "metadata": {
        "id": "nua5TaoySA0m"
      },
      "source": [
        "Answer: **[TO COMPLETE]**\n",
        "The difference in the fourth example's estimate can be attributed to the sigmoid function, ŷ = σ(WTx), where ŷ is consistently 1/2 due to the presence of zeros. Absence of bias terms means the values remain unchanged, necessitating their inclusion for alteration."
      ]
    },
    {
      "cell_type": "markdown",
      "metadata": {
        "id": "61rcR2r-TBiV"
      },
      "source": [
        "`%ENDTEXT`"
      ]
    },
    {
      "cell_type": "markdown",
      "metadata": {
        "id": "yT1qLBvBzpDc"
      },
      "source": [
        "After the training phase, the output of the network is fairly close to the target output.\n",
        "\n",
        "\n",
        "How many iterations were required in order to obtain this result? We have set the number of the iteration to $1000$, but it is interesting to investigate the trend of the error through the training. In the next homework, we will discuss how to select the right number of iterations (also known as *epochs*), for now let's just plot its behaviour:"
      ]
    },
    {
      "cell_type": "code",
      "execution_count": 642,
      "metadata": {
        "colab": {
          "base_uri": "https://localhost:8080/",
          "height": 472
        },
        "id": "a6RsKlA7zrw3",
        "outputId": "9971e196-1f83-43a4-c27b-2c42a83f4749"
      },
      "outputs": [
        {
          "output_type": "display_data",
          "data": {
            "text/plain": [
              "<Figure size 640x480 with 1 Axes>"
            ],
            "image/png": "[encoded data removed]"
          },
          "metadata": {}
        }
      ],
      "source": [
        "plt.figure()\n",
        "plt.plot(range(num_iters), mse, label=\"MSE\")\n",
        "plt.xlabel(\"# Iterations\")\n",
        "plt.title(\"MSE behaviour\")\n",
        "plt.show()"
      ]
    },
    {
      "cell_type": "markdown",
      "metadata": {
        "id": "hiS6hr-eMWR1"
      },
      "source": [
        "You should see the error going down pretty quickly in the beginning and then slowing down."
      ]
    },
    {
      "cell_type": "markdown",
      "metadata": {
        "id": "Zoz4y02rxorc"
      },
      "source": [
        "### Batch training\n",
        "\n",
        "With real scenarios it is inefficient to handle each example individually. Our whole dataset can be forward propagated without a for loop:"
      ]
    },
    {
      "cell_type": "code",
      "execution_count": 643,
      "metadata": {
        "colab": {
          "base_uri": "https://localhost:8080/"
        },
        "id": "pwc6hfIlxspG",
        "outputId": "e4842436-b891-467b-f4cf-d39390140a28"
      },
      "outputs": [
        {
          "output_type": "stream",
          "name": "stdout",
          "text": [
            "y_out = [[0.95164153]\n",
            " [0.99678581]\n",
            " [0.05966936]\n",
            " [0.5       ]]\n"
          ]
        }
      ],
      "source": [
        "y_out = sigma(np.dot(X, W))\n",
        "print(\"y_out =\", y_out)"
      ]
    },
    {
      "cell_type": "markdown",
      "metadata": {
        "id": "H8pBN8voyLGv"
      },
      "source": [
        "so we will get the corresponding output (each value in `y_out`) for each input (each row in `X`) in single matrix multiplication.  The error and weight updates can all be calculated in a single go, using matrix multiplications similarly to the steps we did above with single vectors.\n",
        "\n",
        "However, in these exercises you can (but you do not have to) stick to looping over one sample at a time, as we will deal with the batch training mode in the next homeworks and in this case it does not lead to any significant speed advantage."
      ]
    },
    {
      "cell_type": "markdown",
      "metadata": {
        "id": "t1NBjmZ5K_Nb"
      },
      "source": [
        "## Exercise 1.2: 2D XOR Problem\n",
        "\n",
        "Now let's try a slightly more difficult example. It is a 2D variant of the XOR problem, in which we lay points in a 2D space ideally reproducing the output of the logical function XOR. Here's a visualization of the points in 2D:"
      ]
    },
    {
      "cell_type": "code",
      "execution_count": 644,
      "metadata": {
        "colab": {
          "base_uri": "https://localhost:8080/",
          "height": 452
        },
        "id": "W5cyx0wyLBpz",
        "outputId": "34470009-7724-4fc9-a0f4-5ce833d3c67e"
      },
      "outputs": [
        {
          "output_type": "display_data",
          "data": {
            "text/plain": [
              "<Figure size 640x480 with 1 Axes>"
            ],
            "image/png": "[encoded data removed]"
          },
          "metadata": {}
        }
      ],
      "source": [
        "rng = np.random.default_rng(seed=[42,2])\n",
        "\n",
        "def flip(p=0.1):\n",
        "  if rng.random() < p:\n",
        "    return True\n",
        "  return False\n",
        "\n",
        "def XOR_data_generator(n):\n",
        "  data = rng.random(size=(n, 2))\n",
        "  clusters = {(0.25, 0.25):0, (0.25, 0.75):1,\n",
        "              (0.75, 0.25):1, (0.75, 0.75):0}\n",
        "  labels = [0 for _ in range(n)]\n",
        "  for idx, p in enumerate(data):\n",
        "    max = 0\n",
        "    for c in clusters:\n",
        "      distance = np.sum(np.power((p - np.array(c)), 2))\n",
        "      if distance > max:\n",
        "        labels[idx] = clusters[c]\n",
        "        max = distance\n",
        "    if flip():\n",
        "      labels[idx] = np.abs(labels[idx])\n",
        "  return data, np.array(labels).reshape(-1, 1)\n",
        "\n",
        "X, y = XOR_data_generator(200)\n",
        "\n",
        "plt.title(\"Noisy XOR Dataset\")\n",
        "plt.scatter(X[:,0], X[:,1], c=y)\n",
        "plt.show()"
      ]
    },
    {
      "cell_type": "markdown",
      "metadata": {
        "id": "7V-o8iGoG3-h"
      },
      "source": [
        "Recall that the XOR function has the following truth table:\n",
        "\n",
        "||Input|    Output|\n",
        "|:----:|:---:|---:|\n",
        "| 0    | 0   | 1  |\n",
        "| 0    | 1   | 0  |\n",
        "| 1    | 0   | 0  |\n",
        "| 1    | 1   | 1  |\n",
        "\n",
        "You can see how points above and below `0.5` on each axis can be interpreted as \"true\" or \"false\" values, respectively.\n",
        "\n",
        "This problem is interesting because it can not be solved by using a single layer perceptron. Indeed, you will need (at least) a two-layer network to solve it (if this not obvious to you, revise the class material, think about it and come back later!).\n",
        "\n",
        "We will now visually represent the classification boundary that a perceptron learns when we try to fit it to these data points, and observe that—expectedly—it does not separate the two classes.\n"
      ]
    },
    {
      "cell_type": "markdown",
      "metadata": {
        "id": "oesDzp4tMHUK"
      },
      "source": [
        "### Single-Layer MLP"
      ]
    },
    {
      "cell_type": "code",
      "execution_count": 645,
      "metadata": {
        "id": "Li0dgy7gLTrj"
      },
      "outputs": [],
      "source": [
        "rng = np.random.default_rng(seed=[42,3])\n",
        "\n",
        "# Weights initialization\n",
        "W = 2 * np.random.random((2,1)) - 1\n",
        "\n",
        "# Activation function\n",
        "def sigma(x):\n",
        "    return 1 / (1 + np.exp(-x) )"
      ]
    },
    {
      "cell_type": "code",
      "execution_count": 646,
      "metadata": {
        "colab": {
          "base_uri": "https://localhost:8080/"
        },
        "id": "y1SvguHsLTuR",
        "outputId": "d8442854-3831-43c9-db2e-febd73595668"
      },
      "outputs": [
        {
          "output_type": "stream",
          "name": "stdout",
          "text": [
            "Iteration 0 -- Loss: 0.421599\n",
            "Iteration 10 -- Loss: 0.443556\n",
            "Iteration 20 -- Loss: 0.451385\n",
            "Iteration 30 -- Loss: 0.453837\n",
            "Iteration 40 -- Loss: 0.454763\n",
            "Iteration 50 -- Loss: 0.455157\n",
            "Iteration 60 -- Loss: 0.455337\n",
            "Iteration 70 -- Loss: 0.455421\n",
            "Iteration 80 -- Loss: 0.455462\n",
            "Iteration 90 -- Loss: 0.455481\n",
            "Iteration 100 -- Loss: 0.455491\n",
            "Iteration 110 -- Loss: 0.455495\n",
            "Iteration 120 -- Loss: 0.455498\n",
            "Iteration 130 -- Loss: 0.455499\n",
            "Iteration 140 -- Loss: 0.455499\n",
            "Iteration 150 -- Loss: 0.455499\n",
            "Iteration 160 -- Loss: 0.455500\n",
            "Iteration 170 -- Loss: 0.455500\n",
            "Iteration 180 -- Loss: 0.455500\n",
            "Iteration 190 -- Loss: 0.455500\n",
            "Iteration 200 -- Loss: 0.455500\n",
            "Iteration 210 -- Loss: 0.455500\n",
            "Iteration 220 -- Loss: 0.455500\n",
            "Iteration 230 -- Loss: 0.455500\n",
            "Iteration 240 -- Loss: 0.455500\n",
            "Iteration 250 -- Loss: 0.455500\n",
            "Iteration 260 -- Loss: 0.455500\n",
            "Iteration 270 -- Loss: 0.455500\n",
            "Iteration 280 -- Loss: 0.455500\n",
            "Iteration 290 -- Loss: 0.455500\n",
            "Iteration 300 -- Loss: 0.455500\n",
            "Iteration 310 -- Loss: 0.455500\n",
            "Iteration 320 -- Loss: 0.455500\n",
            "Iteration 330 -- Loss: 0.455500\n",
            "Iteration 340 -- Loss: 0.455500\n",
            "Iteration 350 -- Loss: 0.455500\n",
            "Iteration 360 -- Loss: 0.455500\n",
            "Iteration 370 -- Loss: 0.455500\n",
            "Iteration 380 -- Loss: 0.455500\n",
            "Iteration 390 -- Loss: 0.455500\n",
            "Iteration 400 -- Loss: 0.455500\n",
            "Iteration 410 -- Loss: 0.455500\n",
            "Iteration 420 -- Loss: 0.455500\n",
            "Iteration 430 -- Loss: 0.455500\n",
            "Iteration 440 -- Loss: 0.455500\n",
            "Iteration 450 -- Loss: 0.455500\n",
            "Iteration 460 -- Loss: 0.455500\n",
            "Iteration 470 -- Loss: 0.455500\n",
            "Iteration 480 -- Loss: 0.455500\n",
            "Iteration 490 -- Loss: 0.455500\n",
            "Iteration 500 -- Loss: 0.455500\n",
            "Iteration 510 -- Loss: 0.455500\n",
            "Iteration 520 -- Loss: 0.455500\n",
            "Iteration 530 -- Loss: 0.455500\n",
            "Iteration 540 -- Loss: 0.455500\n",
            "Iteration 550 -- Loss: 0.455500\n",
            "Iteration 560 -- Loss: 0.455500\n",
            "Iteration 570 -- Loss: 0.455500\n",
            "Iteration 580 -- Loss: 0.455500\n",
            "Iteration 590 -- Loss: 0.455500\n",
            "Iteration 600 -- Loss: 0.455500\n",
            "Iteration 610 -- Loss: 0.455500\n",
            "Iteration 620 -- Loss: 0.455500\n",
            "Iteration 630 -- Loss: 0.455500\n",
            "Iteration 640 -- Loss: 0.455500\n",
            "Iteration 650 -- Loss: 0.455500\n",
            "Iteration 660 -- Loss: 0.455500\n",
            "Iteration 670 -- Loss: 0.455500\n",
            "Iteration 680 -- Loss: 0.455500\n",
            "Iteration 690 -- Loss: 0.455500\n",
            "Iteration 700 -- Loss: 0.455500\n",
            "Iteration 710 -- Loss: 0.455500\n",
            "Iteration 720 -- Loss: 0.455500\n",
            "Iteration 730 -- Loss: 0.455500\n",
            "Iteration 740 -- Loss: 0.455500\n",
            "Iteration 750 -- Loss: 0.455500\n",
            "Iteration 760 -- Loss: 0.455500\n",
            "Iteration 770 -- Loss: 0.455500\n",
            "Iteration 780 -- Loss: 0.455500\n",
            "Iteration 790 -- Loss: 0.455500\n",
            "Iteration 800 -- Loss: 0.455500\n",
            "Iteration 810 -- Loss: 0.455500\n",
            "Iteration 820 -- Loss: 0.455500\n",
            "Iteration 830 -- Loss: 0.455500\n",
            "Iteration 840 -- Loss: 0.455500\n",
            "Iteration 850 -- Loss: 0.455500\n",
            "Iteration 860 -- Loss: 0.455500\n",
            "Iteration 870 -- Loss: 0.455500\n",
            "Iteration 880 -- Loss: 0.455500\n",
            "Iteration 890 -- Loss: 0.455500\n",
            "Iteration 900 -- Loss: 0.455500\n",
            "Iteration 910 -- Loss: 0.455500\n",
            "Iteration 920 -- Loss: 0.455500\n",
            "Iteration 930 -- Loss: 0.455500\n",
            "Iteration 940 -- Loss: 0.455500\n",
            "Iteration 950 -- Loss: 0.455500\n",
            "Iteration 960 -- Loss: 0.455500\n",
            "Iteration 970 -- Loss: 0.455500\n",
            "Iteration 980 -- Loss: 0.455500\n",
            "Iteration 990 -- Loss: 0.455500\n"
          ]
        }
      ],
      "source": [
        "num_iters = 1000\n",
        "learning_rate = 0.1\n",
        "\n",
        "for it in range(num_iters):\n",
        "    for n in range(len(X)):\n",
        "        x_n = np.reshape(X[n], (2,1))\n",
        "        y_target = y[n]\n",
        "\n",
        "        # Forward propagation\n",
        "        y_out = sigma(np.dot(W.T, x_n))\n",
        "        err = (y_out - y_target).item()\n",
        "\n",
        "        # Compute the gradient\n",
        "        grad = err*y_out*(1 - y_out)\n",
        "\n",
        "        # Calculate the weights update\n",
        "        W_delta = -learning_rate * grad * x_n\n",
        "\n",
        "        # Update the weights\n",
        "        W += W_delta\n",
        "\n",
        "    if it % 10 == 0: # Print every 10 epochs\n",
        "      print(f\"Iteration {it} -- Loss: {err:.6f}\")"
      ]
    },
    {
      "cell_type": "code",
      "execution_count": 647,
      "metadata": {
        "id": "zUnfXDXjLTxY"
      },
      "outputs": [],
      "source": [
        "def Classifier_plotter(X, y, m):\n",
        "  scale = np.max(X, axis=0)[0]\n",
        "  line = np.array([[0, 0], [scale, m*scale]])\n",
        "  plt.plot(line[:,0], line[:,1], label=\" MLP Classification Boundary\")\n",
        "\n",
        "  plt.scatter(X[:,0], X[:,1], c=y)\n",
        "  plt.xlim([-0.05,1.05])\n",
        "  plt.ylim([-0.05,1.05])\n",
        "  plt.legend()\n",
        "  plt.show()"
      ]
    },
    {
      "cell_type": "code",
      "execution_count": 648,
      "metadata": {
        "colab": {
          "base_uri": "https://localhost:8080/",
          "height": 430
        },
        "id": "0oslY-4sLT0T",
        "outputId": "65cae313-263e-486a-cf24-3640db97a455"
      },
      "outputs": [
        {
          "output_type": "display_data",
          "data": {
            "text/plain": [
              "<Figure size 640x480 with 1 Axes>"
            ],
            "image/png": "[encoded data removed]"
          },
          "metadata": {}
        }
      ],
      "source": [
        "m = -W[0][0] / W[1][0]\n",
        "Classifier_plotter(X, y, m)"
      ]
    },
    {
      "cell_type": "markdown",
      "metadata": {
        "id": "aOSGhQHGMLlw"
      },
      "source": [
        "### Q3: Two-Layer MLP [TO COMPLETE]\n",
        "We will now define a 2-layer feedforward network with a nonlinear activation, which will be able to represent the data points in a different 2D space in which they are linearly separable, and learn a classification boundary in that space.\n",
        "\n",
        "Once again, we will visually represent the data points in the new 2D space and the learned classification boundary. Notice that, to simplify the visualization of the datapoints in the new space, we will have just 2 nodes in the hidden layer."
      ]
    },
    {
      "cell_type": "code",
      "execution_count": 649,
      "metadata": {
        "id": "0ub7PCMHLT3J"
      },
      "outputs": [],
      "source": [
        "num_hidden = 2\n",
        "rng = np.random.default_rng(seed=[42,5])\n",
        "\n",
        "# initialize weights randomly with zero mean and uniformly distributed values in [-1,1]\n",
        "W_1 = 2 * rng.random((2,num_hidden)) - 1\n",
        "W_2 = 2 * rng.random((num_hidden,1)) - 1"
      ]
    },
    {
      "cell_type": "markdown",
      "metadata": {
        "id": "4DZFyrqYXY38"
      },
      "source": [
        "`%STARTCODE`"
      ]
    },
    {
      "cell_type": "code",
      "execution_count": 650,
      "metadata": {
        "colab": {
          "base_uri": "https://localhost:8080/"
        },
        "id": "wgp9yxsQMO2Y",
        "outputId": "87cca3be-4949-47db-d457-b1ffd2a80ec0"
      },
      "outputs": [
        {
          "output_type": "stream",
          "name": "stdout",
          "text": [
            "Iteration 0 -- Loss: 0.123615\n",
            "Iteration 10 -- Loss: 0.123458\n",
            "Iteration 20 -- Loss: 0.123294\n",
            "Iteration 30 -- Loss: 0.123097\n",
            "Iteration 40 -- Loss: 0.122865\n",
            "Iteration 50 -- Loss: 0.122600\n",
            "Iteration 60 -- Loss: 0.122304\n",
            "Iteration 70 -- Loss: 0.121984\n",
            "Iteration 80 -- Loss: 0.121643\n",
            "Iteration 90 -- Loss: 0.121281\n",
            "Iteration 100 -- Loss: 0.120888\n",
            "Iteration 110 -- Loss: 0.120447\n",
            "Iteration 120 -- Loss: 0.119934\n",
            "Iteration 130 -- Loss: 0.119319\n",
            "Iteration 140 -- Loss: 0.118568\n",
            "Iteration 150 -- Loss: 0.117651\n",
            "Iteration 160 -- Loss: 0.116547\n",
            "Iteration 170 -- Loss: 0.115256\n",
            "Iteration 180 -- Loss: 0.113796\n",
            "Iteration 190 -- Loss: 0.112185\n",
            "Iteration 200 -- Loss: 0.110428\n",
            "Iteration 210 -- Loss: 0.108513\n",
            "Iteration 220 -- Loss: 0.106450\n",
            "Iteration 230 -- Loss: 0.104308\n",
            "Iteration 240 -- Loss: 0.102204\n",
            "Iteration 250 -- Loss: 0.100235\n",
            "Iteration 260 -- Loss: 0.098453\n",
            "Iteration 270 -- Loss: 0.096874\n",
            "Iteration 280 -- Loss: 0.095489\n",
            "Iteration 290 -- Loss: 0.094280\n",
            "Iteration 300 -- Loss: 0.093227\n",
            "Iteration 310 -- Loss: 0.092310\n",
            "Iteration 320 -- Loss: 0.091510\n",
            "Iteration 330 -- Loss: 0.090809\n",
            "Iteration 340 -- Loss: 0.090195\n",
            "Iteration 350 -- Loss: 0.089655\n",
            "Iteration 360 -- Loss: 0.089179\n",
            "Iteration 370 -- Loss: 0.088757\n",
            "Iteration 380 -- Loss: 0.088383\n",
            "Iteration 390 -- Loss: 0.088050\n",
            "Iteration 400 -- Loss: 0.087752\n",
            "Iteration 410 -- Loss: 0.087486\n",
            "Iteration 420 -- Loss: 0.087246\n",
            "Iteration 430 -- Loss: 0.087030\n",
            "Iteration 440 -- Loss: 0.086836\n",
            "Iteration 450 -- Loss: 0.086659\n",
            "Iteration 460 -- Loss: 0.086499\n",
            "Iteration 470 -- Loss: 0.086353\n",
            "Iteration 480 -- Loss: 0.086221\n",
            "Iteration 490 -- Loss: 0.086099\n",
            "Iteration 500 -- Loss: 0.085988\n",
            "Iteration 510 -- Loss: 0.085886\n",
            "Iteration 520 -- Loss: 0.085792\n",
            "Iteration 530 -- Loss: 0.085706\n",
            "Iteration 540 -- Loss: 0.085626\n",
            "Iteration 550 -- Loss: 0.085552\n",
            "Iteration 560 -- Loss: 0.085484\n",
            "Iteration 570 -- Loss: 0.085421\n",
            "Iteration 580 -- Loss: 0.085362\n",
            "Iteration 590 -- Loss: 0.085308\n",
            "Iteration 600 -- Loss: 0.085257\n",
            "Iteration 610 -- Loss: 0.085209\n",
            "Iteration 620 -- Loss: 0.085165\n",
            "Iteration 630 -- Loss: 0.085124\n",
            "Iteration 640 -- Loss: 0.085085\n",
            "Iteration 650 -- Loss: 0.085049\n",
            "Iteration 660 -- Loss: 0.085015\n",
            "Iteration 670 -- Loss: 0.084983\n",
            "Iteration 680 -- Loss: 0.084953\n",
            "Iteration 690 -- Loss: 0.084925\n",
            "Iteration 700 -- Loss: 0.084898\n",
            "Iteration 710 -- Loss: 0.084873\n",
            "Iteration 720 -- Loss: 0.084849\n",
            "Iteration 730 -- Loss: 0.084827\n",
            "Iteration 740 -- Loss: 0.084806\n",
            "Iteration 750 -- Loss: 0.084786\n",
            "Iteration 760 -- Loss: 0.084767\n",
            "Iteration 770 -- Loss: 0.084749\n",
            "Iteration 780 -- Loss: 0.084732\n",
            "Iteration 790 -- Loss: 0.084716\n",
            "Iteration 800 -- Loss: 0.084701\n",
            "Iteration 810 -- Loss: 0.084686\n",
            "Iteration 820 -- Loss: 0.084672\n",
            "Iteration 830 -- Loss: 0.084659\n",
            "Iteration 840 -- Loss: 0.084647\n",
            "Iteration 850 -- Loss: 0.084635\n",
            "Iteration 860 -- Loss: 0.084623\n",
            "Iteration 870 -- Loss: 0.084612\n",
            "Iteration 880 -- Loss: 0.084602\n",
            "Iteration 890 -- Loss: 0.084592\n",
            "Iteration 900 -- Loss: 0.084583\n",
            "Iteration 910 -- Loss: 0.084573\n",
            "Iteration 920 -- Loss: 0.084565\n",
            "Iteration 930 -- Loss: 0.084556\n",
            "Iteration 940 -- Loss: 0.084548\n",
            "Iteration 950 -- Loss: 0.084541\n",
            "Iteration 960 -- Loss: 0.084533\n",
            "Iteration 970 -- Loss: 0.084526\n",
            "Iteration 980 -- Loss: 0.084520\n",
            "Iteration 990 -- Loss: 0.084513\n",
            "Iteration 1000 -- Loss: 0.084507\n",
            "Iteration 1010 -- Loss: 0.084501\n",
            "Iteration 1020 -- Loss: 0.084495\n",
            "Iteration 1030 -- Loss: 0.084489\n",
            "Iteration 1040 -- Loss: 0.084484\n",
            "Iteration 1050 -- Loss: 0.084479\n",
            "Iteration 1060 -- Loss: 0.084474\n",
            "Iteration 1070 -- Loss: 0.084469\n",
            "Iteration 1080 -- Loss: 0.084464\n",
            "Iteration 1090 -- Loss: 0.084460\n",
            "Iteration 1100 -- Loss: 0.084455\n",
            "Iteration 1110 -- Loss: 0.084451\n",
            "Iteration 1120 -- Loss: 0.084447\n",
            "Iteration 1130 -- Loss: 0.084443\n",
            "Iteration 1140 -- Loss: 0.084439\n",
            "Iteration 1150 -- Loss: 0.084435\n",
            "Iteration 1160 -- Loss: 0.084432\n",
            "Iteration 1170 -- Loss: 0.084428\n",
            "Iteration 1180 -- Loss: 0.084425\n",
            "Iteration 1190 -- Loss: 0.084422\n",
            "Iteration 1200 -- Loss: 0.084418\n",
            "Iteration 1210 -- Loss: 0.084415\n",
            "Iteration 1220 -- Loss: 0.084412\n",
            "Iteration 1230 -- Loss: 0.084409\n",
            "Iteration 1240 -- Loss: 0.084407\n",
            "Iteration 1250 -- Loss: 0.084404\n",
            "Iteration 1260 -- Loss: 0.084401\n",
            "Iteration 1270 -- Loss: 0.084398\n",
            "Iteration 1280 -- Loss: 0.084396\n",
            "Iteration 1290 -- Loss: 0.084393\n",
            "Iteration 1300 -- Loss: 0.084391\n",
            "Iteration 1310 -- Loss: 0.084389\n",
            "Iteration 1320 -- Loss: 0.084386\n",
            "Iteration 1330 -- Loss: 0.084384\n",
            "Iteration 1340 -- Loss: 0.084382\n",
            "Iteration 1350 -- Loss: 0.084380\n",
            "Iteration 1360 -- Loss: 0.084378\n",
            "Iteration 1370 -- Loss: 0.084376\n",
            "Iteration 1380 -- Loss: 0.084374\n",
            "Iteration 1390 -- Loss: 0.084372\n",
            "Iteration 1400 -- Loss: 0.084370\n",
            "Iteration 1410 -- Loss: 0.084368\n",
            "Iteration 1420 -- Loss: 0.084366\n",
            "Iteration 1430 -- Loss: 0.084364\n",
            "Iteration 1440 -- Loss: 0.084362\n",
            "Iteration 1450 -- Loss: 0.084361\n",
            "Iteration 1460 -- Loss: 0.084359\n",
            "Iteration 1470 -- Loss: 0.084357\n",
            "Iteration 1480 -- Loss: 0.084356\n",
            "Iteration 1490 -- Loss: 0.084354\n",
            "Iteration 1500 -- Loss: 0.084353\n",
            "Iteration 1510 -- Loss: 0.084351\n",
            "Iteration 1520 -- Loss: 0.084350\n",
            "Iteration 1530 -- Loss: 0.084348\n",
            "Iteration 1540 -- Loss: 0.084347\n",
            "Iteration 1550 -- Loss: 0.084345\n",
            "Iteration 1560 -- Loss: 0.084344\n",
            "Iteration 1570 -- Loss: 0.084343\n",
            "Iteration 1580 -- Loss: 0.084341\n",
            "Iteration 1590 -- Loss: 0.084340\n",
            "Iteration 1600 -- Loss: 0.084339\n",
            "Iteration 1610 -- Loss: 0.084337\n",
            "Iteration 1620 -- Loss: 0.084336\n",
            "Iteration 1630 -- Loss: 0.084335\n",
            "Iteration 1640 -- Loss: 0.084334\n",
            "Iteration 1650 -- Loss: 0.084332\n",
            "Iteration 1660 -- Loss: 0.084331\n",
            "Iteration 1670 -- Loss: 0.084330\n",
            "Iteration 1680 -- Loss: 0.084329\n",
            "Iteration 1690 -- Loss: 0.084328\n",
            "Iteration 1700 -- Loss: 0.084327\n",
            "Iteration 1710 -- Loss: 0.084326\n",
            "Iteration 1720 -- Loss: 0.084325\n",
            "Iteration 1730 -- Loss: 0.084324\n",
            "Iteration 1740 -- Loss: 0.084323\n",
            "Iteration 1750 -- Loss: 0.084322\n",
            "Iteration 1760 -- Loss: 0.084321\n",
            "Iteration 1770 -- Loss: 0.084320\n",
            "Iteration 1780 -- Loss: 0.084319\n",
            "Iteration 1790 -- Loss: 0.084318\n",
            "Iteration 1800 -- Loss: 0.084317\n",
            "Iteration 1810 -- Loss: 0.084316\n",
            "Iteration 1820 -- Loss: 0.084315\n",
            "Iteration 1830 -- Loss: 0.084314\n",
            "Iteration 1840 -- Loss: 0.084313\n",
            "Iteration 1850 -- Loss: 0.084312\n",
            "Iteration 1860 -- Loss: 0.084311\n",
            "Iteration 1870 -- Loss: 0.084310\n",
            "Iteration 1880 -- Loss: 0.084309\n",
            "Iteration 1890 -- Loss: 0.084309\n",
            "Iteration 1900 -- Loss: 0.084308\n",
            "Iteration 1910 -- Loss: 0.084307\n",
            "Iteration 1920 -- Loss: 0.084306\n",
            "Iteration 1930 -- Loss: 0.084305\n",
            "Iteration 1940 -- Loss: 0.084305\n",
            "Iteration 1950 -- Loss: 0.084304\n",
            "Iteration 1960 -- Loss: 0.084303\n",
            "Iteration 1970 -- Loss: 0.084302\n",
            "Iteration 1980 -- Loss: 0.084302\n",
            "Iteration 1990 -- Loss: 0.084301\n"
          ]
        }
      ],
      "source": [
        "num_iters = 2000\n",
        "learning_rate = 0.1 # learning rate\n",
        "\n",
        "# defining the sigmoid derivative function.\n",
        "def sigmoid_derivative(x):\n",
        "    return sigma(x) * (1 - sigma(x))\n",
        "\n",
        "mse = np.zeros(num_iters)\n",
        "\n",
        "for it in range(num_iters):\n",
        "    for n in range(len(X)):\n",
        "        x_n = np.reshape(X[n], (2,1))\n",
        "        y_target = y[n].item()\n",
        "\n",
        "        # Forward propagation\n",
        "        # Calculate h\n",
        "        h = sigma(np.dot(W_1.T, x_n))\n",
        "\n",
        "        # Calculate y_out\n",
        "        y_out = sigma(np.dot(W_2.T, h)).item()\n",
        "\n",
        "        # Let's keep track of the sum of squared errors\n",
        "        mse[it] += 0.5*(y_target - y_out)**2 # TO COMPLETE\n",
        "\n",
        "        # Compute the gradient\n",
        "        grad =(y_out - y_target) * sigmoid_derivative(np.dot(W_2.T, h))\n",
        "        grad_dot = np.dot(W_2, grad) * sigmoid_derivative(np.dot(W_1.T, x_n)) # TO COMPLETE\n",
        "\n",
        "        W_2_delta = -learning_rate * grad * h.T\n",
        "\n",
        "        # Calculate the weight updates for W_1\n",
        "        # TO COMPLETE\n",
        "        W_1_delta = -learning_rate * np.dot(x_n, grad_dot.T)\n",
        "\n",
        "\n",
        "        # Update the weights, note: it's important the W weights are updated at the end,\n",
        "        # the above calculation should be done with the old weights\n",
        "        W_1 += W_1_delta # TO COMPLETE\n",
        "        W_2 += W_2_delta.T # TO COMPLETE\n",
        "\n",
        "    # Divide by the number of elements to get the mean of the squared errors\n",
        "    mse[it] /= len(X)\n",
        "\n",
        "    if it % 10 == 0:\n",
        "      print(f\"Iteration {it} -- Loss: {mse[it]:.6f}\")\n",
        "\n",
        ""
      ]
    },
    {
      "cell_type": "markdown",
      "metadata": {
        "id": "RmcNgOdVXgE0"
      },
      "source": [
        "`%ENDCODE`"
      ]
    },
    {
      "cell_type": "code",
      "execution_count": 651,
      "metadata": {
        "colab": {
          "base_uri": "https://localhost:8080/",
          "height": 430
        },
        "id": "duVjjZaqMO4_",
        "outputId": "0a172f93-f5aa-4382-a6a1-cad315f85773"
      },
      "outputs": [
        {
          "output_type": "display_data",
          "data": {
            "text/plain": [
              "<Figure size 640x480 with 1 Axes>"
            ],
            "image/png": "[encoded data removed]"
          },
          "metadata": {}
        }
      ],
      "source": [
        "X_new = sigma(np.dot(X, W_1))\n",
        "m = -W_2[0][0] / W_2[1][0]\n",
        "Classifier_plotter(X_new, y, m)"
      ]
    },
    {
      "cell_type": "markdown",
      "metadata": {
        "id": "KrWyaQqwLdxi"
      },
      "source": [
        "You should see how in the latent space the points are almost perfectly divided by the classification boundary learned by the network."
      ]
    },
    {
      "cell_type": "markdown",
      "metadata": {
        "id": "cAmf-t0PurMP"
      },
      "source": [
        "## Exercise 1.3: Handwritten digits classification\n",
        "In the next two exercises we will try to apply what we learned in the previous ones in two slightly more realistic scenarios.\n",
        "\n",
        "In particular, we now consider a simple digits classification problem. The model turns out to be similar to the perceptron implemented in Exercise 1.1, but here we will use softmax activation function and cross-entropy loss function. The idea is to create a model that has in input an image of a handwritten digit and that return a vector of 10 probabilities (one for each possible digit $0-9$)."
      ]
    },
    {
      "cell_type": "markdown",
      "metadata": {
        "id": "IAYb_cd8vkG-"
      },
      "source": [
        "### Dataset\n",
        "The dataset that we will use in this exercise is included in [scikit-learn](https://scikit-learn.org/stable/), one of the major Machine Learning libraries. The dataset is called `load_digits` and contains several hundreds of samples. Each datapoint is made of the handwritten digit image (or rather its $8\\times8$ pixel representation), that will be the input of our model, and the target digit value.\n",
        "\n",
        "Let's start by plotting one of this handwritten digit:"
      ]
    },
    {
      "cell_type": "code",
      "execution_count": 652,
      "metadata": {
        "colab": {
          "base_uri": "https://localhost:8080/",
          "height": 521
        },
        "id": "MGrkAeWtufMk",
        "outputId": "040819fe-9618-4178-98eb-dbdb4ab18f57"
      },
      "outputs": [
        {
          "output_type": "display_data",
          "data": {
            "text/plain": [
              "<Figure size 600x600 with 1 Axes>"
            ],
            "image/png": "[encoded data removed]"
          },
          "metadata": {}
        }
      ],
      "source": [
        "import matplotlib.pyplot as plt\n",
        "import numpy as np\n",
        "from sklearn.datasets import load_digits\n",
        "\n",
        "digits = load_digits()\n",
        "\n",
        "def plot_digit(x, y):\n",
        "  plt.figure(figsize=(6, 6))\n",
        "  plt.imshow(x, cmap=plt.cm.gray_r,\n",
        "            interpolation='nearest')\n",
        "  plt.title(\"Image True Label: %d\" % y)\n",
        "  plt.tick_params(bottom=False, left=False, labelbottom=False, labelleft=False)\n",
        "  plt.show()\n",
        "\n",
        "sample_index = 42\n",
        "plot_digit(digits.images[sample_index], digits.target[sample_index])"
      ]
    },
    {
      "cell_type": "markdown",
      "metadata": {
        "id": "K0OsnNJbv69J"
      },
      "source": [
        "It is better to check how an input in the dataset $\\mathbf{X}$ and its related target $\\mathbf{y}$ are represented in the dataset:"
      ]
    },
    {
      "cell_type": "code",
      "execution_count": 653,
      "metadata": {
        "colab": {
          "base_uri": "https://localhost:8080/"
        },
        "id": "ei9Uda4av5q2",
        "outputId": "fd887164-71e8-449b-c2a9-d858a6ffb8ed"
      },
      "outputs": [
        {
          "output_type": "stream",
          "name": "stdout",
          "text": [
            "X: [[ 0.  0.  0.  0. 12.  5.  0.  0.]\n",
            " [ 0.  0.  0.  2. 16. 12.  0.  0.]\n",
            " [ 0.  0.  1. 12. 16. 11.  0.  0.]\n",
            " [ 0.  2. 12. 16. 16. 10.  0.  0.]\n",
            " [ 0.  6. 11.  5. 15.  6.  0.  0.]\n",
            " [ 0.  0.  0.  1. 16.  9.  0.  0.]\n",
            " [ 0.  0.  0.  2. 16. 11.  0.  0.]\n",
            " [ 0.  0.  0.  3. 16.  8.  0.  0.]]\n",
            "y: 1\n"
          ]
        }
      ],
      "source": [
        "data = np.asarray(digits.images[sample_index], dtype='float32')\n",
        "target = np.asarray(digits.target[sample_index], dtype='int32')\n",
        "\n",
        "import sys\n",
        "np.set_printoptions(threshold=sys.maxsize) # In this way we print the full array\n",
        "print(\"X:\", data)\n",
        "print(\"y:\", target)"
      ]
    },
    {
      "cell_type": "code",
      "execution_count": 654,
      "metadata": {
        "colab": {
          "base_uri": "https://localhost:8080/"
        },
        "id": "HfYJPxfQl7jL",
        "outputId": "4e312fef-4259-41d6-a1fa-93b1a23effce"
      },
      "outputs": [
        {
          "output_type": "stream",
          "name": "stdout",
          "text": [
            "(1797, 64)\n"
          ]
        }
      ],
      "source": [
        "# the dataset is the flattened version of all the images ( 8 x 8 = 64 values for 1797 images)\n",
        "print(digits.data.shape)"
      ]
    },
    {
      "cell_type": "markdown",
      "metadata": {
        "id": "T9yg07qT3-Kr"
      },
      "source": [
        "So essentialy the dataset is a matrix with the (color) values for each pixel and for each image, whereas the target is the digit itself."
      ]
    },
    {
      "cell_type": "markdown",
      "metadata": {
        "id": "8Hc97pziwLKa"
      },
      "source": [
        "#### One-hot encoding\n",
        "In order to have a representation of the target that will be similar to the output of the model (i.e. $\\hat{y}=0$ or $1$ for each of the 10 digits), we will use one-hot encoding. Basically, the one-hot encoding allow us to encode a categorical integer feature using a one-of-K scheme, where each class is translated to a specific index of an array."
      ]
    },
    {
      "cell_type": "code",
      "execution_count": 655,
      "metadata": {
        "id": "eF6jEnOmwRUk"
      },
      "outputs": [],
      "source": [
        "def one_hot(n_classes, y):\n",
        "    return np.eye(n_classes)[y]"
      ]
    },
    {
      "cell_type": "markdown",
      "metadata": {
        "id": "onD0qqMx6shM"
      },
      "source": [
        "For example, if there are 10 classes in total and a sample belongs to class number 3, we can translate the output to the following length-ten array of 0 and 1 (class 3 is in the fourth index because we start counting from zero!):"
      ]
    },
    {
      "cell_type": "code",
      "execution_count": 656,
      "metadata": {
        "colab": {
          "base_uri": "https://localhost:8080/"
        },
        "id": "r4CISmJ39lts",
        "outputId": "4155c113-4197-4b39-9ef6-8fc5dc08a7b0"
      },
      "outputs": [
        {
          "output_type": "execute_result",
          "data": {
            "text/plain": [
              "array([0., 0., 0., 1., 0., 0., 0., 0., 0., 0.])"
            ]
          },
          "metadata": {},
          "execution_count": 656
        }
      ],
      "source": [
        "one_hot(n_classes=10, y=3)"
      ]
    },
    {
      "cell_type": "markdown",
      "metadata": {
        "id": "gkSruP-bwkki"
      },
      "source": [
        "As activation function we will use the Softmax function: this particular function is very useful when we have to deal with multiclassification tasks and one-hot target because it turns numbers, a.k.a. logits (pre-activations), into $m$ probabilities that sum to one. Basically, Softmax function outputs a vector that represents the probability distributions of a list of potential outcomes $j$:\n",
        "$$\n",
        "softmax(\\mathbf{x})_j = \\frac{e^{x_j}}{\\sum_{i=1}^{m}{e^{x_i}}}\n",
        "$$"
      ]
    },
    {
      "cell_type": "code",
      "execution_count": 657,
      "metadata": {
        "id": "jRpVpZDGU2Cj"
      },
      "outputs": [],
      "source": [
        "def softmax(X):\n",
        "    return np.exp(X) / np.sum(np.exp(X))"
      ]
    },
    {
      "cell_type": "markdown",
      "metadata": {
        "id": "KP7xOmNqsE-R"
      },
      "source": [
        "### Loss Function: Cross Entropy ###\n",
        "Usually, a neural network classifier that use the softmax function in the final layer is trained using Cross-Entropy as loss function:\n",
        "$$H(Y,P)=-E_{y \\sim Y}[log \\;P(y)]$$\n",
        "where $Y$ and $P$ are the true and predicted labels distributions."
      ]
    },
    {
      "cell_type": "code",
      "execution_count": 658,
      "metadata": {
        "id": "UYnPJ1lWsFkP"
      },
      "outputs": [],
      "source": [
        "EPSILON = 1e-8 # this is needed for numerical stability\n",
        "\n",
        "def cross_entropy(Y_true, Y_pred):\n",
        "    Y_true, Y_pred = np.atleast_2d(Y_true), np.atleast_2d(Y_pred) # make sure the dimensions are right\n",
        "    loglikelihoods = np.sum(np.log(EPSILON + Y_pred) * Y_true, axis=1)\n",
        "    return -np.mean(loglikelihoods)"
      ]
    },
    {
      "cell_type": "markdown",
      "metadata": {
        "id": "R2jR9ijztQWP"
      },
      "source": [
        "### Weights Initailiazation\n",
        "\n",
        "Similarly to what we did in previous exercises, we have to initialize the weights but in this case we will consider the bias term as well. Therefore, we define the weights $\\mathbf{W}\\in\\mathbb{R}^{m \\times n}$ and the bias $\\mathbf{b}\\in\\mathbb{R}^m$, where $n$ is the input size and $m$ is the number of classes.\n",
        "Now we can define the output of our model as\n",
        "\n",
        "$$\\hat{\\mathbf{y}}=softmax(\\textbf{W} \\textbf{x}+\\mathbf{b})$$\n",
        "\n"
      ]
    },
    {
      "cell_type": "code",
      "execution_count": 659,
      "metadata": {
        "id": "FtgOtaVL-4xd"
      },
      "outputs": [],
      "source": [
        "rng = np.random.default_rng(seed=[42,10])\n",
        "\n",
        "input_size = digits.data.shape[1]\n",
        "n_classes = len(np.unique(digits.target))\n",
        "\n",
        "W = rng.uniform(size=(input_size,n_classes), high=0.1, low=-0.1) # Another way to sample from uniform distributions\n",
        "b = rng.uniform(size=n_classes, high=0.1, low=-0.1)"
      ]
    },
    {
      "cell_type": "markdown",
      "metadata": {
        "id": "6Ab3_mFz-9kG"
      },
      "source": [
        "Let's consider a sample from the training set, and plot the current output of our model before training it."
      ]
    },
    {
      "cell_type": "code",
      "execution_count": 660,
      "metadata": {
        "colab": {
          "base_uri": "https://localhost:8080/",
          "height": 472
        },
        "id": "6VpIr1KY_CTd",
        "outputId": "57f4b3fc-f3ce-4ba6-cae8-01b8ec3c0ed4"
      },
      "outputs": [
        {
          "output_type": "display_data",
          "data": {
            "text/plain": [
              "<Figure size 640x480 with 1 Axes>"
            ],
            "image/png": "[encoded data removed]"
          },
          "metadata": {}
        }
      ],
      "source": [
        "def plot_predictions(y_out, true_label):\n",
        "  plt.bar(range(n_classes), y_out, label=\"Predictions\", color=\"red\")\n",
        "  plt.ylim(0, 1)\n",
        "  plt.xticks(range(n_classes))\n",
        "  plt.legend()\n",
        "  plt.ylabel(\"Probability\")\n",
        "  plt.xlabel(\"Digit Class\")\n",
        "  plt.title(\"Image True Label: %d\" % true_label)\n",
        "  plt.show()\n",
        "\n",
        "y_out = softmax(np.dot(digits.data[sample_index], W) + b)\n",
        "plot_predictions(y_out, digits.target[sample_index])"
      ]
    },
    {
      "cell_type": "markdown",
      "metadata": {
        "id": "LCdvwX-VjyeO"
      },
      "source": [
        "We see that the most likely predictions for our _untrained_ model is just $5$ (or it could have been any other random guess) for the handwritten $1$."
      ]
    },
    {
      "cell_type": "markdown",
      "metadata": {
        "id": "r4DYTEEh_QDf"
      },
      "source": [
        "### Q4: Training procedure [TO COMPLETE]\n",
        "As in the previous exercise let's define a training procedure. Note that in this case, we have to compute the gradient according to the softmax function and the loss function that the training has to optimize.\n",
        "\n",
        "Hence, the gradient for the weights $\\textbf{W}$ is:\n",
        "\n",
        "$\\nabla_W=(\\mathbf{\\hat{y}}-\\mathbf{y}) \\cdot \\mathbf{x}$\n",
        "\n",
        "while for the bias is:\n",
        "\n",
        "$\\nabla_b=(\\mathbf{\\hat{y}}-\\mathbf{y})$\n",
        "\n",
        "During the training procedure let's also compute the accuracy of the predictions and the loss value at each iteration:\n",
        "\n"
      ]
    },
    {
      "cell_type": "markdown",
      "metadata": {
        "id": "QvqY4kDVx8Fq"
      },
      "source": [
        "`%STARTCODE`"
      ]
    },
    {
      "cell_type": "code",
      "execution_count": 661,
      "metadata": {
        "colab": {
          "base_uri": "https://localhost:8080/"
        },
        "id": "OcQfByoE_a6v",
        "outputId": "3ea5f69b-3570-47b6-d117-54cc7a8cb6ad"
      },
      "outputs": [
        {
          "output_type": "stream",
          "name": "stdout",
          "text": [
            "Iteration: 0 -- Accuracy: 82.97% -- Loss: 0.6307\n",
            "Iteration: 1 -- Accuracy: 95.05% -- Loss: 0.1696\n",
            "Iteration: 2 -- Accuracy: 96.49% -- Loss: 0.1305\n",
            "Iteration: 3 -- Accuracy: 96.99% -- Loss: 0.1116\n",
            "Iteration: 4 -- Accuracy: 97.16% -- Loss: 0.0994\n",
            "Iteration: 5 -- Accuracy: 97.50% -- Loss: 0.0905\n",
            "Iteration: 6 -- Accuracy: 97.66% -- Loss: 0.0834\n",
            "Iteration: 7 -- Accuracy: 97.89% -- Loss: 0.0775\n",
            "Iteration: 8 -- Accuracy: 98.11% -- Loss: 0.0726\n",
            "Iteration: 9 -- Accuracy: 98.27% -- Loss: 0.0683\n",
            "Iteration: 10 -- Accuracy: 98.50% -- Loss: 0.0646\n",
            "Iteration: 11 -- Accuracy: 98.55% -- Loss: 0.0614\n",
            "Iteration: 12 -- Accuracy: 98.72% -- Loss: 0.0585\n",
            "Iteration: 13 -- Accuracy: 98.78% -- Loss: 0.0559\n",
            "Iteration: 14 -- Accuracy: 98.94% -- Loss: 0.0536\n",
            "Iteration: 15 -- Accuracy: 99.05% -- Loss: 0.0515\n",
            "Iteration: 16 -- Accuracy: 99.11% -- Loss: 0.0496\n",
            "Iteration: 17 -- Accuracy: 99.11% -- Loss: 0.0478\n",
            "Iteration: 18 -- Accuracy: 99.11% -- Loss: 0.0463\n",
            "Iteration: 19 -- Accuracy: 99.17% -- Loss: 0.0448\n",
            "Iteration: 20 -- Accuracy: 99.28% -- Loss: 0.0435\n",
            "Iteration: 21 -- Accuracy: 99.33% -- Loss: 0.0422\n",
            "Iteration: 22 -- Accuracy: 99.33% -- Loss: 0.0410\n",
            "Iteration: 23 -- Accuracy: 99.33% -- Loss: 0.0399\n",
            "Iteration: 24 -- Accuracy: 99.44% -- Loss: 0.0389\n",
            "Iteration: 25 -- Accuracy: 99.44% -- Loss: 0.0380\n",
            "Iteration: 26 -- Accuracy: 99.44% -- Loss: 0.0371\n",
            "Iteration: 27 -- Accuracy: 99.44% -- Loss: 0.0362\n",
            "Iteration: 28 -- Accuracy: 99.50% -- Loss: 0.0354\n",
            "Iteration: 29 -- Accuracy: 99.55% -- Loss: 0.0346\n",
            "Iteration: 30 -- Accuracy: 99.55% -- Loss: 0.0339\n",
            "Iteration: 31 -- Accuracy: 99.67% -- Loss: 0.0332\n",
            "Iteration: 32 -- Accuracy: 99.67% -- Loss: 0.0326\n",
            "Iteration: 33 -- Accuracy: 99.67% -- Loss: 0.0319\n",
            "Iteration: 34 -- Accuracy: 99.72% -- Loss: 0.0313\n",
            "Iteration: 35 -- Accuracy: 99.78% -- Loss: 0.0307\n",
            "Iteration: 36 -- Accuracy: 99.78% -- Loss: 0.0302\n",
            "Iteration: 37 -- Accuracy: 99.78% -- Loss: 0.0296\n",
            "Iteration: 38 -- Accuracy: 99.78% -- Loss: 0.0291\n",
            "Iteration: 39 -- Accuracy: 99.78% -- Loss: 0.0286\n",
            "Iteration: 40 -- Accuracy: 99.78% -- Loss: 0.0281\n",
            "Iteration: 41 -- Accuracy: 99.78% -- Loss: 0.0277\n",
            "Iteration: 42 -- Accuracy: 99.78% -- Loss: 0.0272\n",
            "Iteration: 43 -- Accuracy: 99.78% -- Loss: 0.0268\n",
            "Iteration: 44 -- Accuracy: 99.78% -- Loss: 0.0264\n",
            "Iteration: 45 -- Accuracy: 99.78% -- Loss: 0.0260\n",
            "Iteration: 46 -- Accuracy: 99.78% -- Loss: 0.0256\n",
            "Iteration: 47 -- Accuracy: 99.78% -- Loss: 0.0252\n",
            "Iteration: 48 -- Accuracy: 99.78% -- Loss: 0.0248\n",
            "Iteration: 49 -- Accuracy: 99.78% -- Loss: 0.0245\n"
          ]
        }
      ],
      "source": [
        "num_iters = 50 # Feel free to change this\n",
        "learning_rate = 0.0005 # Feel free to change this\n",
        "\n",
        "for it in range(num_iters):\n",
        "    iteration_accuracy = []\n",
        "    iteration_loss = []\n",
        "    for i, (X, y) in enumerate(zip(digits.data, digits.target)):\n",
        "\n",
        "        # Complete the training loop\n",
        "        # TO COMPLETE\n",
        "        y_out = softmax(np.dot(X, W) + b)\n",
        "        pred_err = cross_entropy(one_hot(n_classes,y), y_out)\n",
        "\n",
        "        # Compute the gradient and update parameters\n",
        "        # TO COMPLETE\n",
        "        grad_W = np.outer((y_out - one_hot(n_classes,y)), X)\n",
        "        grad_b = pred_err\n",
        "        W += - learning_rate * grad_W.T\n",
        "        b += - learning_rate * grad_b.T\n",
        "\n",
        "        iteration_accuracy.append(np.argmax(y_out) == y)\n",
        "        iteration_loss.append(cross_entropy(one_hot(n_classes,y), y_out))\n",
        "\n",
        "    print(f\"Iteration: {it} -- Accuracy: {np.mean(np.asarray(iteration_accuracy)):.2%} -- Loss: {np.mean(iteration_loss):.4f}\")"
      ]
    },
    {
      "cell_type": "markdown",
      "metadata": {
        "id": "mo3tIVERyAUv"
      },
      "source": [
        "`%ENDCODE`"
      ]
    },
    {
      "cell_type": "markdown",
      "metadata": {
        "id": "QnJH8lWaxtc4"
      },
      "source": [
        "As you should see during the training the accuracy increases after each iteration, while the loss function value progressively declines. To succeed in the assignement, you should reach at least Accuracy$>99.00\\%$ and MSE $< 0.05$.\n",
        "\n",
        "Finally, let's check how the prediction capability of our model changes after the training:"
      ]
    },
    {
      "cell_type": "code",
      "execution_count": 662,
      "metadata": {
        "colab": {
          "base_uri": "https://localhost:8080/",
          "height": 472
        },
        "id": "jGrzV9w6_lwz",
        "outputId": "ed0e0612-55e1-4afa-dae4-3f882476dba2"
      },
      "outputs": [
        {
          "output_type": "display_data",
          "data": {
            "text/plain": [
              "<Figure size 640x480 with 1 Axes>"
            ],
            "image/png": "[encoded data removed]"
          },
          "metadata": {}
        }
      ],
      "source": [
        "y_out = softmax(np.dot(digits.data[sample_index], W) + b)\n",
        "plot_predictions(y_out, digits.target[sample_index])"
      ]
    },
    {
      "cell_type": "markdown",
      "metadata": {
        "id": "eCED9tQGbgz_"
      },
      "source": [
        "Now, let's test our model on custom generated images whose size are $8 \\times 8$. As you can see, we can simply simulate the number drawing by considering some non-zero pixels among zero-valued pixels. For example, the following test case includes `number 2` inside, that can be seen from positions of non-zero pixel locations as well."
      ]
    },
    {
      "cell_type": "code",
      "execution_count": 663,
      "metadata": {
        "colab": {
          "base_uri": "https://localhost:8080/",
          "height": 976
        },
        "id": "LaV-ENlYWQ-q",
        "outputId": "740ad4b4-9b3a-46d9-c028-172595fd7fff"
      },
      "outputs": [
        {
          "output_type": "display_data",
          "data": {
            "text/plain": [
              "<Figure size 600x600 with 1 Axes>"
            ],
            "image/png": "[encoded data removed]"
          },
          "metadata": {}
        },
        {
          "output_type": "display_data",
          "data": {
            "text/plain": [
              "<Figure size 640x480 with 1 Axes>"
            ],
            "image/png": "[encoded data removed]"
          },
          "metadata": {}
        }
      ],
      "source": [
        "test_num = 2\n",
        "px = 10\n",
        "test_img = np.array([\n",
        "                    [0.,  0.,  px,  px, px,  px,  0.,  0.],\n",
        "                    [0.,  0.,  0.,  0., 0.,  px,  0.,  0.],\n",
        "                    [0.,  0.,  0.,  0., 0.,  px,  0.,  0.],\n",
        "                    [0.,  0.,  0.,  0., px,  px,  0.,  0.],\n",
        "                    [0.,  0.,  0.,  0., px,  0.,  0.,  0.],\n",
        "                    [0.,  0.,  0.,  px, 0.,  0.,  0.,  0.],\n",
        "                    [0.,  0.,  px,  px, 0.,  0.,  0.,  0.],\n",
        "                    [0.,  0.,  px,  px, px,  px,  0.,  0.]\n",
        "])\n",
        "plot_digit(test_img, test_num)\n",
        "\n",
        "test_img = test_img.flatten() # flatten the array to length (64, )\n",
        "y_pred = softmax(np.dot(test_img, W) + b)\n",
        "plot_predictions(y_pred, test_num)"
      ]
    },
    {
      "cell_type": "markdown",
      "metadata": {
        "id": "imQEdCGDoJmT"
      },
      "source": [
        "You should try different numbers by changing the values in \"test_img\" array. You might observe and review the effect of `px` on the final estimation. Are you able to draw a number that is still recognizable for a human but not for the model?"
      ]
    },
    {
      "cell_type": "code",
      "execution_count": 664,
      "metadata": {
        "colab": {
          "base_uri": "https://localhost:8080/",
          "height": 976
        },
        "id": "NCtOx-yLn7E-",
        "outputId": "563fa043-701f-44e0-be94-4dc0b3b2da92"
      },
      "outputs": [
        {
          "output_type": "display_data",
          "data": {
            "text/plain": [
              "<Figure size 600x600 with 1 Axes>"
            ],
            "image/png": "[encoded data removed]"
          },
          "metadata": {}
        },
        {
          "output_type": "display_data",
          "data": {
            "text/plain": [
              "<Figure size 640x480 with 1 Axes>"
            ],
            "image/png": "[encoded data removed]"
          },
          "metadata": {}
        }
      ],
      "source": [
        "test_num = 3 # [TO COMPLETE] Number you choose to draw on the test_img grid\n",
        "px = 10\n",
        "test_img = np.array([\n",
        "                    [px,  px,  px,  px, 0.,  0.,  0.,  0.],\n",
        "                    [px,  0.,  0.,  px, 0.,  0.,  0.,  0.],\n",
        "                    [px,  0.,  0.,  px, 0.,  0.,  0.,  0.],\n",
        "                    [px,  px,  px,  px, 0.,  0.,  0.,  0.],\n",
        "                    [px,  px,  0.,  0., 0.,  0.,  0.,  0.],\n",
        "                    [px,  0.,  px,  0., 0.,  0.,  0.,  0.],\n",
        "                    [px,  0.,  0.,  px, 0.,  0.,  0.,  0.],\n",
        "                    [px,  0.,  0.,  0., px,  0.,  0.,  0.]\n",
        "])\n",
        "plot_digit(test_img, test_num)\n",
        "\n",
        "test_img = test_img.flatten() # flatten the array to length (64, )\n",
        "y_pred = softmax(np.dot(test_img, W) + b)\n",
        "plot_predictions(y_pred, test_num)"
      ]
    },
    {
      "cell_type": "markdown",
      "metadata": {
        "id": "nQA1GTUlLJXZ"
      },
      "source": [
        "## Exercise 1.4: Regression\n",
        "\n",
        "In this last exercise, to showcase the versatility of Deep Learning, we are going to train a Multi-Layer Perceptron to estimate the date of first performance of Shakespearean plays based on statistics about the words used in them (fancy, isn't it?). The dataset was first presented in [this paper](https://www.semanticscholar.org/paper/Multiple-regression-techniques-for-modeling-dates-Moscato-Craig/0e32c43760b42d78758097b30c9666aaf4f779c8).\n",
        "\n",
        "We will quickly go through it and prepare the data for you, there is no need to grasp all the details here. Your task is only to implement a 2-layer MLP model and training loop similarly to what we have done so far."
      ]
    },
    {
      "cell_type": "code",
      "execution_count": 665,
      "metadata": {
        "id": "XgdEZmRCdSqL"
      },
      "outputs": [],
      "source": [
        "# Download the Dataset\n",
        "import requests\n",
        "import zipfile\n",
        "import io\n",
        "import shutil\n",
        "\n",
        "# Download the dataset\n",
        "url = \"https://archive.ics.uci.edu/static/public/747/181+early+modern+english+plays+transcriptions+of+early+editions+in+tei+encoding.zip\"\n",
        "response = requests.get(url)\n",
        "\n",
        "# Create a file-like object to write the downloaded data\n",
        "zip_file = io.BytesIO(response.content)\n",
        "\n",
        "# Extract the zip file\n",
        "with zipfile.ZipFile(zip_file) as z:\n",
        "    z.extractall()\n",
        "\n",
        "#! wget https://archive.ics.uci.edu/static/public/747/181+early+modern+english+plays+transcriptions+of+early+editions+in+tei+encoding.zip\n",
        "#! unzip -f /content/181+early+modern+english+plays+transcriptions+of+early+editions+in+tei+encoding.zip"
      ]
    },
    {
      "cell_type": "code",
      "execution_count": 666,
      "metadata": {
        "id": "6iw6pRvJLLxk",
        "colab": {
          "base_uri": "https://localhost:8080/",
          "height": 324
        },
        "outputId": "903bde83-9691-49e9-ca0e-72c52e25b236"
      },
      "outputs": [
        {
          "output_type": "execute_result",
          "data": {
            "text/plain": [
              "     Date of first performance (best guess)  the  and    i   of    a  you  \\\n",
              "19                                     1608  667  719  359  491  225  203   \n",
              "42                                     1600  436  502  632  255  223  262   \n",
              "153                                    1607  547  425  545  320  469  186   \n",
              "78                                     1592  699  738  503  404  224  251   \n",
              "145                                    1610  881  477  506  630  404  304   \n",
              "\n",
              "      my   is  to[infinitive]  ...  zones  zontes  zoons  zot  zoyas  zoylous  \\\n",
              "19   355  196             278  ...      0       0      0    0      0        0   \n",
              "42   414  274             268  ...      0       0      0    0      0        0   \n",
              "153  260  321             184  ...      0       0      0    0      0        0   \n",
              "78   471  288             271  ...      0       0      0    0      0        0   \n",
              "145  465  278             317  ...      0       0      0    0      0        0   \n",
              "\n",
              "     zucone  zula  zulziman  zygne  \n",
              "19        0     0         0      0  \n",
              "42        0     0         0      0  \n",
              "153       0     0         0      0  \n",
              "78        0     0         0      0  \n",
              "145       0     0         0      0  \n",
              "\n",
              "[5 rows x 51257 columns]"
            ],
            "text/html": [
              "\n",
              "  <div id=\"df-e8de8638-eb42-4098-b87e-4e7d33eeab49\" class=\"colab-df-container\">\n",
              "    <div>\n",
              "<style scoped>\n",
              "    .dataframe tbody tr th:only-of-type {\n",
              "        vertical-align: middle;\n",
              "    }\n",
              "\n",
              "    .dataframe tbody tr th {\n",
              "        vertical-align: top;\n",
              "    }\n",
              "\n",
              "    .dataframe thead th {\n",
              "        text-align: right;\n",
              "    }\n",
              "</style>\n",
              "<table border=\"1\" class=\"dataframe\">\n",
              "  <thead>\n",
              "    <tr style=\"text-align: right;\">\n",
              "      <th></th>\n",
              "      <th>Date of first performance (best guess)</th>\n",
              "      <th>the</th>\n",
              "      <th>and</th>\n",
              "      <th>i</th>\n",
              "      <th>of</th>\n",
              "      <th>a</th>\n",
              "      <th>you</th>\n",
              "      <th>my</th>\n",
              "      <th>is</th>\n",
              "      <th>to[infinitive]</th>\n",
              "      <th>...</th>\n",
              "      <th>zones</th>\n",
              "      <th>zontes</th>\n",
              "      <th>zoons</th>\n",
              "      <th>zot</th>\n",
              "      <th>zoyas</th>\n",
              "      <th>zoylous</th>\n",
              "      <th>zucone</th>\n",
              "      <th>zula</th>\n",
              "      <th>zulziman</th>\n",
              "      <th>zygne</th>\n",
              "    </tr>\n",
              "  </thead>\n",
              "  <tbody>\n",
              "    <tr>\n",
              "      <th>19</th>\n",
              "      <td>1608</td>\n",
              "      <td>667</td>\n",
              "      <td>719</td>\n",
              "      <td>359</td>\n",
              "      <td>491</td>\n",
              "      <td>225</td>\n",
              "      <td>203</td>\n",
              "      <td>355</td>\n",
              "      <td>196</td>\n",
              "      <td>278</td>\n",
              "      <td>...</td>\n",
              "      <td>0</td>\n",
              "      <td>0</td>\n",
              "      <td>0</td>\n",
              "      <td>0</td>\n",
              "      <td>0</td>\n",
              "      <td>0</td>\n",
              "      <td>0</td>\n",
              "      <td>0</td>\n",
              "      <td>0</td>\n",
              "      <td>0</td>\n",
              "    </tr>\n",
              "    <tr>\n",
              "      <th>42</th>\n",
              "      <td>1600</td>\n",
              "      <td>436</td>\n",
              "      <td>502</td>\n",
              "      <td>632</td>\n",
              "      <td>255</td>\n",
              "      <td>223</td>\n",
              "      <td>262</td>\n",
              "      <td>414</td>\n",
              "      <td>274</td>\n",
              "      <td>268</td>\n",
              "      <td>...</td>\n",
              "      <td>0</td>\n",
              "      <td>0</td>\n",
              "      <td>0</td>\n",
              "      <td>0</td>\n",
              "      <td>0</td>\n",
              "      <td>0</td>\n",
              "      <td>0</td>\n",
              "      <td>0</td>\n",
              "      <td>0</td>\n",
              "      <td>0</td>\n",
              "    </tr>\n",
              "    <tr>\n",
              "      <th>153</th>\n",
              "      <td>1607</td>\n",
              "      <td>547</td>\n",
              "      <td>425</td>\n",
              "      <td>545</td>\n",
              "      <td>320</td>\n",
              "      <td>469</td>\n",
              "      <td>186</td>\n",
              "      <td>260</td>\n",
              "      <td>321</td>\n",
              "      <td>184</td>\n",
              "      <td>...</td>\n",
              "      <td>0</td>\n",
              "      <td>0</td>\n",
              "      <td>0</td>\n",
              "      <td>0</td>\n",
              "      <td>0</td>\n",
              "      <td>0</td>\n",
              "      <td>0</td>\n",
              "      <td>0</td>\n",
              "      <td>0</td>\n",
              "      <td>0</td>\n",
              "    </tr>\n",
              "    <tr>\n",
              "      <th>78</th>\n",
              "      <td>1592</td>\n",
              "      <td>699</td>\n",
              "      <td>738</td>\n",
              "      <td>503</td>\n",
              "      <td>404</td>\n",
              "      <td>224</td>\n",
              "      <td>251</td>\n",
              "      <td>471</td>\n",
              "      <td>288</td>\n",
              "      <td>271</td>\n",
              "      <td>...</td>\n",
              "      <td>0</td>\n",
              "      <td>0</td>\n",
              "      <td>0</td>\n",
              "      <td>0</td>\n",
              "      <td>0</td>\n",
              "      <td>0</td>\n",
              "      <td>0</td>\n",
              "      <td>0</td>\n",
              "      <td>0</td>\n",
              "      <td>0</td>\n",
              "    </tr>\n",
              "    <tr>\n",
              "      <th>145</th>\n",
              "      <td>1610</td>\n",
              "      <td>881</td>\n",
              "      <td>477</td>\n",
              "      <td>506</td>\n",
              "      <td>630</td>\n",
              "      <td>404</td>\n",
              "      <td>304</td>\n",
              "      <td>465</td>\n",
              "      <td>278</td>\n",
              "      <td>317</td>\n",
              "      <td>...</td>\n",
              "      <td>0</td>\n",
              "      <td>0</td>\n",
              "      <td>0</td>\n",
              "      <td>0</td>\n",
              "      <td>0</td>\n",
              "      <td>0</td>\n",
              "      <td>0</td>\n",
              "      <td>0</td>\n",
              "      <td>0</td>\n",
              "      <td>0</td>\n",
              "    </tr>\n",
              "  </tbody>\n",
              "</table>\n",
              "<p>5 rows × 51257 columns</p>\n",
              "</div>\n",
              "    <div class=\"colab-df-buttons\">\n",
              "\n",
              "  <div class=\"colab-df-container\">\n",
              "    <button class=\"colab-df-convert\" onclick=\"convertToInteractive('df-e8de8638-eb42-4098-b87e-4e7d33eeab49')\"\n",
              "            title=\"Convert this dataframe to an interactive table.\"\n",
              "            style=\"display:none;\">\n",
              "\n",
              "  <svg xmlns=\"http://www.w3.org/2000/svg\" height=\"24px\" viewBox=\"0 -960 960 960\">\n",
              "    <path d=\"M120-120v-720h720v720H120Zm60-500h600v-160H180v160Zm220 220h160v-160H400v160Zm0 220h160v-160H400v160ZM180-400h160v-160H180v160Zm440 0h160v-160H620v160ZM180-180h160v-160H180v160Zm440 0h160v-160H620v160Z\"/>\n",
              "  </svg>\n",
              "    </button>\n",
              "\n",
              "  <style>\n",
              "    .colab-df-container {\n",
              "      display:flex;\n",
              "      gap: 12px;\n",
              "    }\n",
              "\n",
              "    .colab-df-convert {\n",
              "      background-color: #E8F0FE;\n",
              "      border: none;\n",
              "      border-radius: 50%;\n",
              "      cursor: pointer;\n",
              "      display: none;\n",
              "      fill: #1967D2;\n",
              "      height: 32px;\n",
              "      padding: 0 0 0 0;\n",
              "      width: 32px;\n",
              "    }\n",
              "\n",
              "    .colab-df-convert:hover {\n",
              "      background-color: #E2EBFA;\n",
              "      box-shadow: 0px 1px 2px rgba(60, 64, 67, 0.3), 0px 1px 3px 1px rgba(60, 64, 67, 0.15);\n",
              "      fill: #174EA6;\n",
              "    }\n",
              "\n",
              "    .colab-df-buttons div {\n",
              "      margin-bottom: 4px;\n",
              "    }\n",
              "\n",
              "    [theme=dark] .colab-df-convert {\n",
              "      background-color: #3B4455;\n",
              "      fill: #D2E3FC;\n",
              "    }\n",
              "\n",
              "    [theme=dark] .colab-df-convert:hover {\n",
              "      background-color: #434B5C;\n",
              "      box-shadow: 0px 1px 3px 1px rgba(0, 0, 0, 0.15);\n",
              "      filter: drop-shadow(0px 1px 2px rgba(0, 0, 0, 0.3));\n",
              "      fill: #FFFFFF;\n",
              "    }\n",
              "  </style>\n",
              "\n",
              "    <script>\n",
              "      const buttonEl =\n",
              "        document.querySelector('#df-e8de8638-eb42-4098-b87e-4e7d33eeab49 button.colab-df-convert');\n",
              "      buttonEl.style.display =\n",
              "        google.colab.kernel.accessAllowed ? 'block' : 'none';\n",
              "\n",
              "      async function convertToInteractive(key) {\n",
              "        const element = document.querySelector('#df-e8de8638-eb42-4098-b87e-4e7d33eeab49');\n",
              "        const dataTable =\n",
              "          await google.colab.kernel.invokeFunction('convertToInteractive',\n",
              "                                                    [key], {});\n",
              "        if (!dataTable) return;\n",
              "\n",
              "        const docLinkHtml = 'Like what you see? Visit the ' +\n",
              "          '<a target=\"_blank\" href=https://colab.research.google.com/notebooks/data_table.ipynb>data table notebook</a>'\n",
              "          + ' to learn more about interactive tables.';\n",
              "        element.innerHTML = '';\n",
              "        dataTable['output_type'] = 'display_data';\n",
              "        await google.colab.output.renderOutput(dataTable, element);\n",
              "        const docLink = document.createElement('div');\n",
              "        docLink.innerHTML = docLinkHtml;\n",
              "        element.appendChild(docLink);\n",
              "      }\n",
              "    </script>\n",
              "  </div>\n",
              "\n",
              "\n",
              "<div id=\"df-2da73cfd-b4be-4b26-8036-9723c78a8fd2\">\n",
              "  <button class=\"colab-df-quickchart\" onclick=\"quickchart('df-2da73cfd-b4be-4b26-8036-9723c78a8fd2')\"\n",
              "            title=\"Suggest charts\"\n",
              "            style=\"display:none;\">\n",
              "\n",
              "<svg xmlns=\"http://www.w3.org/2000/svg\" height=\"24px\"viewBox=\"0 0 24 24\"\n",
              "     width=\"24px\">\n",
              "    <g>\n",
              "        <path d=\"M19 3H5c-1.1 0-2 .9-2 2v14c0 1.1.9 2 2 2h14c1.1 0 2-.9 2-2V5c0-1.1-.9-2-2-2zM9 17H7v-7h2v7zm4 0h-2V7h2v10zm4 0h-2v-4h2v4z\"/>\n",
              "    </g>\n",
              "</svg>\n",
              "  </button>\n",
              "\n",
              "<style>\n",
              "  .colab-df-quickchart {\n",
              "      --bg-color: #E8F0FE;\n",
              "      --fill-color: #1967D2;\n",
              "      --hover-bg-color: #E2EBFA;\n",
              "      --hover-fill-color: #174EA6;\n",
              "      --disabled-fill-color: #AAA;\n",
              "      --disabled-bg-color: #DDD;\n",
              "  }\n",
              "\n",
              "  [theme=dark] .colab-df-quickchart {\n",
              "      --bg-color: #3B4455;\n",
              "      --fill-color: #D2E3FC;\n",
              "      --hover-bg-color: #434B5C;\n",
              "      --hover-fill-color: #FFFFFF;\n",
              "      --disabled-bg-color: #3B4455;\n",
              "      --disabled-fill-color: #666;\n",
              "  }\n",
              "\n",
              "  .colab-df-quickchart {\n",
              "    background-color: var(--bg-color);\n",
              "    border: none;\n",
              "    border-radius: 50%;\n",
              "    cursor: pointer;\n",
              "    display: none;\n",
              "    fill: var(--fill-color);\n",
              "    height: 32px;\n",
              "    padding: 0;\n",
              "    width: 32px;\n",
              "  }\n",
              "\n",
              "  .colab-df-quickchart:hover {\n",
              "    background-color: var(--hover-bg-color);\n",
              "    box-shadow: 0 1px 2px rgba(60, 64, 67, 0.3), 0 1px 3px 1px rgba(60, 64, 67, 0.15);\n",
              "    fill: var(--button-hover-fill-color);\n",
              "  }\n",
              "\n",
              "  .colab-df-quickchart-complete:disabled,\n",
              "  .colab-df-quickchart-complete:disabled:hover {\n",
              "    background-color: var(--disabled-bg-color);\n",
              "    fill: var(--disabled-fill-color);\n",
              "    box-shadow: none;\n",
              "  }\n",
              "\n",
              "  .colab-df-spinner {\n",
              "    border: 2px solid var(--fill-color);\n",
              "    border-color: transparent;\n",
              "    border-bottom-color: var(--fill-color);\n",
              "    animation:\n",
              "      spin 1s steps(1) infinite;\n",
              "  }\n",
              "\n",
              "  @keyframes spin {\n",
              "    0% {\n",
              "      border-color: transparent;\n",
              "      border-bottom-color: var(--fill-color);\n",
              "      border-left-color: var(--fill-color);\n",
              "    }\n",
              "    20% {\n",
              "      border-color: transparent;\n",
              "      border-left-color: var(--fill-color);\n",
              "      border-top-color: var(--fill-color);\n",
              "    }\n",
              "    30% {\n",
              "      border-color: transparent;\n",
              "      border-left-color: var(--fill-color);\n",
              "      border-top-color: var(--fill-color);\n",
              "      border-right-color: var(--fill-color);\n",
              "    }\n",
              "    40% {\n",
              "      border-color: transparent;\n",
              "      border-right-color: var(--fill-color);\n",
              "      border-top-color: var(--fill-color);\n",
              "    }\n",
              "    60% {\n",
              "      border-color: transparent;\n",
              "      border-right-color: var(--fill-color);\n",
              "    }\n",
              "    80% {\n",
              "      border-color: transparent;\n",
              "      border-right-color: var(--fill-color);\n",
              "      border-bottom-color: var(--fill-color);\n",
              "    }\n",
              "    90% {\n",
              "      border-color: transparent;\n",
              "      border-bottom-color: var(--fill-color);\n",
              "    }\n",
              "  }\n",
              "</style>\n",
              "\n",
              "  <script>\n",
              "    async function quickchart(key) {\n",
              "      const quickchartButtonEl =\n",
              "        document.querySelector('#' + key + ' button');\n",
              "      quickchartButtonEl.disabled = true;  // To prevent multiple clicks.\n",
              "      quickchartButtonEl.classList.add('colab-df-spinner');\n",
              "      try {\n",
              "        const charts = await google.colab.kernel.invokeFunction(\n",
              "            'suggestCharts', [key], {});\n",
              "      } catch (error) {\n",
              "        console.error('Error during call to suggestCharts:', error);\n",
              "      }\n",
              "      quickchartButtonEl.classList.remove('colab-df-spinner');\n",
              "      quickchartButtonEl.classList.add('colab-df-quickchart-complete');\n",
              "    }\n",
              "    (() => {\n",
              "      let quickchartButtonEl =\n",
              "        document.querySelector('#df-2da73cfd-b4be-4b26-8036-9723c78a8fd2 button');\n",
              "      quickchartButtonEl.style.display =\n",
              "        google.colab.kernel.accessAllowed ? 'block' : 'none';\n",
              "    })();\n",
              "  </script>\n",
              "</div>\n",
              "    </div>\n",
              "  </div>\n"
            ],
            "application/vnd.google.colaboratory.intrinsic+json": {
              "type": "dataframe",
              "variable_name": "df"
            }
          },
          "metadata": {},
          "execution_count": 666
        }
      ],
      "source": [
        "# Load the dataset with Pandas and shuffle its rows.\n",
        "\n",
        "import pandas as pd\n",
        "\n",
        "df = pd.read_csv(\"181_plays_1585-610_t.csv\") # Adjust path if you are not using Colab\n",
        "df = df.sample(frac=1, random_state=42)\n",
        "df.head()\n"
      ]
    },
    {
      "cell_type": "code",
      "execution_count": 667,
      "metadata": {
        "colab": {
          "base_uri": "https://localhost:8080/"
        },
        "id": "t4v7M0bqPJLL",
        "outputId": "73292613-f200-49d6-8a5c-dc4bf656ac9a"
      },
      "outputs": [
        {
          "output_type": "execute_result",
          "data": {
            "text/plain": [
              "(181, 51257)"
            ]
          },
          "metadata": {},
          "execution_count": 667
        }
      ],
      "source": [
        "df.shape"
      ]
    },
    {
      "cell_type": "code",
      "execution_count": 668,
      "metadata": {
        "id": "l2Wi3GOKNH9i",
        "colab": {
          "base_uri": "https://localhost:8080/"
        },
        "outputId": "1b0f8c10-8b50-443b-f9f5-0317277c9434"
      },
      "outputs": [
        {
          "output_type": "execute_result",
          "data": {
            "text/plain": [
              "((181, 51256), (181, 1))"
            ]
          },
          "metadata": {},
          "execution_count": 668
        }
      ],
      "source": [
        "# Extracting X and y from the Pandas DataFrame\n",
        "\n",
        "X = np.array(df.iloc[:, 1:])\n",
        "y = np.array(df[\"Date of first performance (best guess)\"]).reshape(-1,1)\n",
        "X.shape, y.shape"
      ]
    },
    {
      "cell_type": "code",
      "execution_count": 669,
      "metadata": {
        "id": "rrhivnr0NIG_"
      },
      "outputs": [],
      "source": [
        "# Making into training and test splits with 85%-15% proportions. We will see later on how to use the validation set too.\n",
        "\n",
        "tr, tst = 0.85, 0.15\n",
        "n = int(len(df) * tr)\n",
        "X_train, X_test = X[:n, :], X[n:, :]\n",
        "y_train, y_test = y[:n], y[n:]"
      ]
    },
    {
      "cell_type": "code",
      "execution_count": 670,
      "metadata": {
        "id": "KlFAXj4_NIKh",
        "colab": {
          "base_uri": "https://localhost:8080/"
        },
        "outputId": "17286875-cf07-4eb8-f720-7045023ddbae"
      },
      "outputs": [
        {
          "output_type": "execute_result",
          "data": {
            "text/plain": [
              "((153, 51256), (28, 51256), (153, 1), (28, 1))"
            ]
          },
          "metadata": {},
          "execution_count": 670
        }
      ],
      "source": [
        "X_train.shape, X_test.shape, y_train.shape, y_test.shape"
      ]
    },
    {
      "cell_type": "markdown",
      "metadata": {
        "id": "hhI6r43xRPCu"
      },
      "source": [
        "### Data pre-processing\n",
        "\n",
        "To obtain meaningful performances with a basic MLP, we have to translate our tabular data into numerical vectors. Try to understand what each functions does, as these pre-processing steps are common practices in Data Science."
      ]
    },
    {
      "cell_type": "code",
      "execution_count": 671,
      "metadata": {
        "id": "v4lxe5lnNIOK"
      },
      "outputs": [],
      "source": [
        "\"\"\"\n",
        "Rescale training data in the interval [0, 1] and get the min and\n",
        "max coefficients to rescale also validation and test data based on\n",
        "the statistics of the training set, without leaking information.\n",
        "\"\"\"\n",
        "\n",
        "\n",
        "def fit_normalize(array, coeff1=1.0, coeff2=1.0):\n",
        "    minimum, maximum = coeff1 * np.min(array), coeff2 * np.max(array)\n",
        "    if minimum == maximum:\n",
        "\n",
        "        return (array - minimum) * 0.5, (minimum, maximum)\n",
        "    scaled_array = (array - minimum) / (maximum - minimum)\n",
        "    return (scaled_array, (minimum, maximum))\n",
        "\n",
        "\n",
        "\n",
        "\"\"\"\n",
        "Function to rescale test data based on the statistics of the training set.\n",
        "\"\"\"\n",
        "def apply_normalize(array, param):\n",
        "  if param[0] == param[1] == 0: return array\n",
        "  scaled_array = (array - param[0]) / (param[1] - param[0])\n",
        "  return scaled_array\n",
        "\n",
        "\"\"\"\n",
        "Reverse function, to go from values in [0, 1] back to years.\n",
        "\"\"\"\n",
        "def reverse(array, params):\n",
        "  return params[0] + array * (params[1] - params[0])"
      ]
    },
    {
      "cell_type": "code",
      "execution_count": 672,
      "metadata": {
        "id": "AaPMTSp4Ndyp"
      },
      "outputs": [],
      "source": [
        "X_train_scaled = np.zeros_like(X_train, dtype=float)\n",
        "X_train_params = []\n",
        "for idx, col in enumerate(X_train.T):\n",
        "  X_train_scaled[: , idx], param = fit_normalize(col)\n",
        "  X_train_params.append(param)"
      ]
    },
    {
      "cell_type": "code",
      "execution_count": 673,
      "metadata": {
        "id": "Os3Akx20NXuZ"
      },
      "outputs": [],
      "source": [
        "X_test_scaled = np.zeros_like(X_test, dtype=float)\n",
        "for idx, col in enumerate(X_test.T):\n",
        "  X_test_scaled[: , idx] = apply_normalize(col, X_train_params[idx])"
      ]
    },
    {
      "cell_type": "code",
      "execution_count": 674,
      "metadata": {
        "id": "5iol5X96NXxR"
      },
      "outputs": [],
      "source": [
        "y_train_scaled, y_train_params = fit_normalize(y_train)\n",
        "y_test_scaled = apply_normalize(y_test, y_train_params)"
      ]
    },
    {
      "cell_type": "markdown",
      "metadata": {
        "id": "QrizqQNT83VI"
      },
      "source": [
        "We aslo apply [Principal Component Analysis (PCA)](https://en.wikipedia.org/wiki/Principal_component_analysis?) to lower the dimensionality well below $51256$ while retaining the core of the data structure."
      ]
    },
    {
      "cell_type": "code",
      "execution_count": 675,
      "metadata": {
        "id": "eCr9ppuLNlry"
      },
      "outputs": [],
      "source": [
        "from sklearn.decomposition import PCA\n",
        "n_components = 100\n",
        "pca = PCA(n_components=n_components)\n",
        "X_train_scaled = pca.fit_transform(X_train_scaled)\n",
        "X_test_scaled = pca.transform(X_test_scaled)"
      ]
    },
    {
      "cell_type": "code",
      "execution_count": 676,
      "metadata": {
        "id": "_yaYAb8fNluw",
        "colab": {
          "base_uri": "https://localhost:8080/"
        },
        "outputId": "842de60a-0fc6-4af6-e112-31c6a87c097e"
      },
      "outputs": [
        {
          "output_type": "execute_result",
          "data": {
            "text/plain": [
              "((153, 100), (28, 100), (153, 1), (28, 1))"
            ]
          },
          "metadata": {},
          "execution_count": 676
        }
      ],
      "source": [
        "X_train_scaled.shape, X_test_scaled.shape, y_train_scaled.shape, y_test_scaled.shape"
      ]
    },
    {
      "cell_type": "markdown",
      "metadata": {
        "id": "xXZQCnW8vpXM"
      },
      "source": [
        "### Q5: Training Procedure [TO COMPLETE]\n",
        "\n",
        "You will now have to implement a 2-layers MLP and its training loop.\n",
        " **Your goal is to reach a MSE on the test set below $0.03$**. There are many choices to make and tests to run, so do not worry if you do not get immediately this score! Please use the variable names and basic structure we provide, for all the rest you are free to experiment and try different approaches. We will see during the course and in the next homeworks how we can implement better and faster models, leveraging Deep Learning libraries."
      ]
    },
    {
      "cell_type": "markdown",
      "metadata": {
        "id": "_mSSu6Xkv64T"
      },
      "source": [
        "`%STARTCODE`"
      ]
    },
    {
      "cell_type": "code",
      "execution_count": 677,
      "metadata": {
        "id": "xer_n9AwNuri"
      },
      "outputs": [],
      "source": [
        "rng = np.random.default_rng([42, 100])\n",
        "\n",
        "num_hidden = 35 # TO COMPLETE (the higher the better, but more computationally expensive and leads to overfitting)\n",
        "\n",
        "\n",
        "# Input and output dimensions\n",
        "input_dim = X_train_scaled.shape[1]\n",
        "output_dim = 1\n",
        "\n",
        "# Initialize weights randomly with zero mean and uniformly distributed values in [-1,1]\n",
        "W_1= rng.uniform(-1, 1, size=(input_dim, num_hidden)) # TO COMPLETE\n",
        "W_2= rng.uniform(-1, 1, size=(num_hidden, output_dim)) # TO COMPLETE\n",
        "\n",
        "# Let us define a helper lambda function to make predictions for validation and testing\n",
        "forward_propagation = lambda x,w1,w2 : sigma(np.dot(sigma(np.dot(x, w1)), w2))\n",
        "\n"
      ]
    },
    {
      "cell_type": "code",
      "execution_count": 678,
      "metadata": {
        "id": "i5b96Ls0Nuuc",
        "scrolled": true,
        "colab": {
          "base_uri": "https://localhost:8080/"
        },
        "outputId": "81a14e24-adcb-4047-b889-78831cab582b"
      },
      "outputs": [
        {
          "output_type": "stream",
          "name": "stdout",
          "text": [
            "Iteration 0 -- train_loss: 0.1436 -- test_loss 0.1602\n",
            "Iteration 2 -- train_loss: 0.1348 -- test_loss 0.1523\n",
            "Iteration 4 -- train_loss: 0.1265 -- test_loss 0.1448\n",
            "Iteration 6 -- train_loss: 0.1187 -- test_loss 0.1378\n",
            "Iteration 8 -- train_loss: 0.1115 -- test_loss 0.1312\n",
            "Iteration 10 -- train_loss: 0.1047 -- test_loss 0.1251\n",
            "Iteration 12 -- train_loss: 0.0983 -- test_loss 0.1193\n",
            "Iteration 14 -- train_loss: 0.0925 -- test_loss 0.1140\n",
            "Iteration 16 -- train_loss: 0.0871 -- test_loss 0.1091\n",
            "Iteration 18 -- train_loss: 0.0821 -- test_loss 0.1045\n",
            "Iteration 20 -- train_loss: 0.0775 -- test_loss 0.1003\n",
            "Iteration 22 -- train_loss: 0.0734 -- test_loss 0.0964\n",
            "Iteration 24 -- train_loss: 0.0696 -- test_loss 0.0927\n",
            "Iteration 26 -- train_loss: 0.0661 -- test_loss 0.0894\n",
            "Iteration 28 -- train_loss: 0.0629 -- test_loss 0.0862\n",
            "Iteration 30 -- train_loss: 0.0599 -- test_loss 0.0833\n",
            "Iteration 32 -- train_loss: 0.0572 -- test_loss 0.0806\n",
            "Iteration 34 -- train_loss: 0.0546 -- test_loss 0.0782\n",
            "Iteration 36 -- train_loss: 0.0523 -- test_loss 0.0758\n",
            "Iteration 38 -- train_loss: 0.0501 -- test_loss 0.0737\n",
            "Iteration 40 -- train_loss: 0.0481 -- test_loss 0.0717\n",
            "Iteration 42 -- train_loss: 0.0463 -- test_loss 0.0699\n",
            "Iteration 44 -- train_loss: 0.0445 -- test_loss 0.0681\n",
            "Iteration 46 -- train_loss: 0.0430 -- test_loss 0.0665\n",
            "Iteration 48 -- train_loss: 0.0415 -- test_loss 0.0650\n",
            "Iteration 50 -- train_loss: 0.0401 -- test_loss 0.0636\n",
            "Iteration 52 -- train_loss: 0.0389 -- test_loss 0.0623\n",
            "Iteration 54 -- train_loss: 0.0377 -- test_loss 0.0610\n",
            "Iteration 56 -- train_loss: 0.0366 -- test_loss 0.0599\n",
            "Iteration 58 -- train_loss: 0.0355 -- test_loss 0.0587\n",
            "Iteration 60 -- train_loss: 0.0345 -- test_loss 0.0577\n",
            "Iteration 62 -- train_loss: 0.0336 -- test_loss 0.0567\n",
            "Iteration 64 -- train_loss: 0.0327 -- test_loss 0.0557\n",
            "Iteration 66 -- train_loss: 0.0319 -- test_loss 0.0548\n",
            "Iteration 68 -- train_loss: 0.0312 -- test_loss 0.0540\n",
            "Iteration 70 -- train_loss: 0.0304 -- test_loss 0.0531\n",
            "Iteration 72 -- train_loss: 0.0297 -- test_loss 0.0523\n",
            "Iteration 74 -- train_loss: 0.0291 -- test_loss 0.0516\n",
            "Iteration 76 -- train_loss: 0.0284 -- test_loss 0.0508\n",
            "Iteration 78 -- train_loss: 0.0278 -- test_loss 0.0501\n",
            "Iteration 80 -- train_loss: 0.0273 -- test_loss 0.0494\n",
            "Iteration 82 -- train_loss: 0.0267 -- test_loss 0.0488\n",
            "Iteration 84 -- train_loss: 0.0262 -- test_loss 0.0481\n",
            "Iteration 86 -- train_loss: 0.0257 -- test_loss 0.0475\n",
            "Iteration 88 -- train_loss: 0.0252 -- test_loss 0.0469\n",
            "Iteration 90 -- train_loss: 0.0247 -- test_loss 0.0462\n",
            "Iteration 92 -- train_loss: 0.0242 -- test_loss 0.0457\n",
            "Iteration 94 -- train_loss: 0.0238 -- test_loss 0.0451\n",
            "Iteration 96 -- train_loss: 0.0234 -- test_loss 0.0445\n",
            "Iteration 98 -- train_loss: 0.0229 -- test_loss 0.0440\n",
            "Iteration 100 -- train_loss: 0.0225 -- test_loss 0.0435\n",
            "Iteration 102 -- train_loss: 0.0221 -- test_loss 0.0430\n",
            "Iteration 104 -- train_loss: 0.0218 -- test_loss 0.0425\n",
            "Iteration 106 -- train_loss: 0.0214 -- test_loss 0.0420\n",
            "Iteration 108 -- train_loss: 0.0211 -- test_loss 0.0415\n",
            "Iteration 110 -- train_loss: 0.0207 -- test_loss 0.0411\n",
            "Iteration 112 -- train_loss: 0.0204 -- test_loss 0.0407\n",
            "Iteration 114 -- train_loss: 0.0201 -- test_loss 0.0403\n",
            "Iteration 116 -- train_loss: 0.0198 -- test_loss 0.0399\n",
            "Iteration 118 -- train_loss: 0.0194 -- test_loss 0.0395\n",
            "Iteration 120 -- train_loss: 0.0191 -- test_loss 0.0391\n",
            "Iteration 122 -- train_loss: 0.0189 -- test_loss 0.0388\n",
            "Iteration 124 -- train_loss: 0.0186 -- test_loss 0.0384\n",
            "Iteration 126 -- train_loss: 0.0183 -- test_loss 0.0381\n",
            "Iteration 128 -- train_loss: 0.0180 -- test_loss 0.0378\n",
            "Iteration 130 -- train_loss: 0.0178 -- test_loss 0.0374\n",
            "Iteration 132 -- train_loss: 0.0175 -- test_loss 0.0371\n",
            "Iteration 134 -- train_loss: 0.0173 -- test_loss 0.0368\n",
            "Iteration 136 -- train_loss: 0.0171 -- test_loss 0.0366\n",
            "Iteration 138 -- train_loss: 0.0168 -- test_loss 0.0363\n",
            "Iteration 140 -- train_loss: 0.0166 -- test_loss 0.0360\n",
            "Iteration 142 -- train_loss: 0.0164 -- test_loss 0.0357\n",
            "Iteration 144 -- train_loss: 0.0162 -- test_loss 0.0355\n",
            "Iteration 146 -- train_loss: 0.0160 -- test_loss 0.0352\n",
            "Iteration 148 -- train_loss: 0.0158 -- test_loss 0.0350\n",
            "Iteration 150 -- train_loss: 0.0156 -- test_loss 0.0348\n",
            "Iteration 152 -- train_loss: 0.0155 -- test_loss 0.0346\n",
            "Iteration 154 -- train_loss: 0.0153 -- test_loss 0.0343\n",
            "Iteration 156 -- train_loss: 0.0151 -- test_loss 0.0341\n",
            "Iteration 158 -- train_loss: 0.0149 -- test_loss 0.0339\n",
            "Iteration 160 -- train_loss: 0.0148 -- test_loss 0.0337\n",
            "Iteration 162 -- train_loss: 0.0146 -- test_loss 0.0335\n",
            "Iteration 164 -- train_loss: 0.0144 -- test_loss 0.0334\n",
            "Iteration 166 -- train_loss: 0.0143 -- test_loss 0.0332\n",
            "Iteration 168 -- train_loss: 0.0141 -- test_loss 0.0330\n",
            "Iteration 170 -- train_loss: 0.0140 -- test_loss 0.0328\n",
            "Iteration 172 -- train_loss: 0.0138 -- test_loss 0.0327\n",
            "Iteration 174 -- train_loss: 0.0137 -- test_loss 0.0325\n",
            "Iteration 176 -- train_loss: 0.0135 -- test_loss 0.0323\n",
            "Iteration 178 -- train_loss: 0.0134 -- test_loss 0.0322\n",
            "Iteration 180 -- train_loss: 0.0133 -- test_loss 0.0320\n",
            "Iteration 182 -- train_loss: 0.0131 -- test_loss 0.0319\n",
            "Iteration 184 -- train_loss: 0.0130 -- test_loss 0.0318\n",
            "Iteration 186 -- train_loss: 0.0128 -- test_loss 0.0316\n",
            "Iteration 188 -- train_loss: 0.0127 -- test_loss 0.0315\n",
            "Iteration 190 -- train_loss: 0.0126 -- test_loss 0.0313\n",
            "Iteration 192 -- train_loss: 0.0124 -- test_loss 0.0312\n",
            "Iteration 194 -- train_loss: 0.0123 -- test_loss 0.0311\n",
            "Iteration 196 -- train_loss: 0.0121 -- test_loss 0.0310\n",
            "Iteration 198 -- train_loss: 0.0120 -- test_loss 0.0308\n",
            "Iteration 200 -- train_loss: 0.0118 -- test_loss 0.0307\n",
            "Iteration 202 -- train_loss: 0.0117 -- test_loss 0.0306\n",
            "Iteration 204 -- train_loss: 0.0115 -- test_loss 0.0305\n",
            "Iteration 206 -- train_loss: 0.0113 -- test_loss 0.0304\n",
            "Iteration 208 -- train_loss: 0.0111 -- test_loss 0.0303\n",
            "Iteration 210 -- train_loss: 0.0110 -- test_loss 0.0302\n",
            "Iteration 212 -- train_loss: 0.0108 -- test_loss 0.0301\n",
            "Iteration 214 -- train_loss: 0.0106 -- test_loss 0.0300\n",
            "Iteration 216 -- train_loss: 0.0105 -- test_loss 0.0299\n",
            "Iteration 218 -- train_loss: 0.0104 -- test_loss 0.0299\n",
            "Iteration 220 -- train_loss: 0.0103 -- test_loss 0.0298\n",
            "Iteration 222 -- train_loss: 0.0102 -- test_loss 0.0297\n",
            "Iteration 224 -- train_loss: 0.0101 -- test_loss 0.0296\n",
            "Iteration 226 -- train_loss: 0.0100 -- test_loss 0.0296\n",
            "Iteration 228 -- train_loss: 0.0099 -- test_loss 0.0295\n",
            "Iteration 230 -- train_loss: 0.0098 -- test_loss 0.0294\n",
            "Iteration 232 -- train_loss: 0.0097 -- test_loss 0.0294\n",
            "Iteration 234 -- train_loss: 0.0096 -- test_loss 0.0293\n",
            "Iteration 236 -- train_loss: 0.0095 -- test_loss 0.0292\n",
            "Iteration 238 -- train_loss: 0.0094 -- test_loss 0.0292\n",
            "Iteration 240 -- train_loss: 0.0093 -- test_loss 0.0291\n",
            "Iteration 242 -- train_loss: 0.0093 -- test_loss 0.0291\n",
            "Iteration 244 -- train_loss: 0.0092 -- test_loss 0.0290\n",
            "Iteration 246 -- train_loss: 0.0091 -- test_loss 0.0290\n",
            "Iteration 248 -- train_loss: 0.0090 -- test_loss 0.0289\n",
            "Iteration 250 -- train_loss: 0.0090 -- test_loss 0.0289\n",
            "Iteration 252 -- train_loss: 0.0089 -- test_loss 0.0288\n",
            "Iteration 254 -- train_loss: 0.0089 -- test_loss 0.0287\n",
            "Iteration 256 -- train_loss: 0.0088 -- test_loss 0.0287\n",
            "Iteration 258 -- train_loss: 0.0087 -- test_loss 0.0287\n",
            "Iteration 260 -- train_loss: 0.0087 -- test_loss 0.0286\n",
            "Iteration 262 -- train_loss: 0.0086 -- test_loss 0.0286\n",
            "Iteration 264 -- train_loss: 0.0085 -- test_loss 0.0285\n",
            "Iteration 266 -- train_loss: 0.0085 -- test_loss 0.0285\n",
            "Iteration 268 -- train_loss: 0.0084 -- test_loss 0.0284\n",
            "Iteration 270 -- train_loss: 0.0084 -- test_loss 0.0284\n",
            "Iteration 272 -- train_loss: 0.0083 -- test_loss 0.0283\n",
            "Iteration 274 -- train_loss: 0.0083 -- test_loss 0.0283\n",
            "Iteration 276 -- train_loss: 0.0082 -- test_loss 0.0283\n",
            "Iteration 278 -- train_loss: 0.0082 -- test_loss 0.0282\n",
            "Iteration 280 -- train_loss: 0.0081 -- test_loss 0.0282\n",
            "Iteration 282 -- train_loss: 0.0081 -- test_loss 0.0281\n",
            "Iteration 284 -- train_loss: 0.0080 -- test_loss 0.0281\n",
            "Iteration 286 -- train_loss: 0.0080 -- test_loss 0.0281\n",
            "Iteration 288 -- train_loss: 0.0079 -- test_loss 0.0280\n",
            "Iteration 290 -- train_loss: 0.0079 -- test_loss 0.0280\n",
            "Iteration 292 -- train_loss: 0.0078 -- test_loss 0.0279\n",
            "Iteration 294 -- train_loss: 0.0078 -- test_loss 0.0279\n",
            "Iteration 296 -- train_loss: 0.0078 -- test_loss 0.0279\n",
            "Iteration 298 -- train_loss: 0.0077 -- test_loss 0.0278\n",
            "Iteration 300 -- train_loss: 0.0077 -- test_loss 0.0278\n",
            "Iteration 302 -- train_loss: 0.0076 -- test_loss 0.0278\n",
            "Iteration 304 -- train_loss: 0.0076 -- test_loss 0.0277\n",
            "Iteration 306 -- train_loss: 0.0075 -- test_loss 0.0277\n",
            "Iteration 308 -- train_loss: 0.0075 -- test_loss 0.0277\n",
            "Iteration 310 -- train_loss: 0.0074 -- test_loss 0.0276\n",
            "Iteration 312 -- train_loss: 0.0074 -- test_loss 0.0276\n",
            "Iteration 314 -- train_loss: 0.0074 -- test_loss 0.0276\n",
            "Iteration 316 -- train_loss: 0.0073 -- test_loss 0.0276\n",
            "Iteration 318 -- train_loss: 0.0073 -- test_loss 0.0275\n",
            "Iteration 320 -- train_loss: 0.0072 -- test_loss 0.0275\n",
            "Iteration 322 -- train_loss: 0.0072 -- test_loss 0.0275\n",
            "Iteration 324 -- train_loss: 0.0071 -- test_loss 0.0274\n",
            "Iteration 326 -- train_loss: 0.0071 -- test_loss 0.0274\n",
            "Iteration 328 -- train_loss: 0.0071 -- test_loss 0.0274\n",
            "Iteration 330 -- train_loss: 0.0070 -- test_loss 0.0274\n",
            "Iteration 332 -- train_loss: 0.0070 -- test_loss 0.0273\n",
            "Iteration 334 -- train_loss: 0.0069 -- test_loss 0.0273\n",
            "Iteration 336 -- train_loss: 0.0069 -- test_loss 0.0273\n",
            "Iteration 338 -- train_loss: 0.0069 -- test_loss 0.0272\n",
            "Iteration 340 -- train_loss: 0.0068 -- test_loss 0.0272\n",
            "Iteration 342 -- train_loss: 0.0068 -- test_loss 0.0272\n",
            "Iteration 344 -- train_loss: 0.0067 -- test_loss 0.0272\n",
            "Iteration 346 -- train_loss: 0.0067 -- test_loss 0.0272\n",
            "Iteration 348 -- train_loss: 0.0066 -- test_loss 0.0271\n",
            "Iteration 350 -- train_loss: 0.0066 -- test_loss 0.0271\n",
            "Iteration 352 -- train_loss: 0.0066 -- test_loss 0.0271\n",
            "Iteration 354 -- train_loss: 0.0065 -- test_loss 0.0271\n",
            "Iteration 356 -- train_loss: 0.0065 -- test_loss 0.0270\n",
            "Iteration 358 -- train_loss: 0.0064 -- test_loss 0.0270\n",
            "Iteration 360 -- train_loss: 0.0064 -- test_loss 0.0270\n",
            "Iteration 362 -- train_loss: 0.0063 -- test_loss 0.0270\n",
            "Iteration 364 -- train_loss: 0.0063 -- test_loss 0.0269\n",
            "Iteration 366 -- train_loss: 0.0063 -- test_loss 0.0269\n",
            "Iteration 368 -- train_loss: 0.0062 -- test_loss 0.0269\n",
            "Iteration 370 -- train_loss: 0.0062 -- test_loss 0.0269\n",
            "Iteration 372 -- train_loss: 0.0061 -- test_loss 0.0269\n",
            "Iteration 374 -- train_loss: 0.0061 -- test_loss 0.0268\n",
            "Iteration 376 -- train_loss: 0.0060 -- test_loss 0.0268\n",
            "Iteration 378 -- train_loss: 0.0060 -- test_loss 0.0268\n",
            "Iteration 380 -- train_loss: 0.0060 -- test_loss 0.0268\n",
            "Iteration 382 -- train_loss: 0.0059 -- test_loss 0.0268\n",
            "Iteration 384 -- train_loss: 0.0059 -- test_loss 0.0267\n",
            "Iteration 386 -- train_loss: 0.0058 -- test_loss 0.0267\n",
            "Iteration 388 -- train_loss: 0.0058 -- test_loss 0.0267\n",
            "Iteration 390 -- train_loss: 0.0058 -- test_loss 0.0267\n",
            "Iteration 392 -- train_loss: 0.0057 -- test_loss 0.0267\n",
            "Iteration 394 -- train_loss: 0.0057 -- test_loss 0.0267\n",
            "Iteration 396 -- train_loss: 0.0057 -- test_loss 0.0266\n",
            "Iteration 398 -- train_loss: 0.0056 -- test_loss 0.0266\n",
            "Iteration 400 -- train_loss: 0.0056 -- test_loss 0.0266\n",
            "Iteration 402 -- train_loss: 0.0056 -- test_loss 0.0266\n",
            "Iteration 404 -- train_loss: 0.0055 -- test_loss 0.0266\n",
            "Iteration 406 -- train_loss: 0.0055 -- test_loss 0.0265\n",
            "Iteration 408 -- train_loss: 0.0055 -- test_loss 0.0265\n",
            "Iteration 410 -- train_loss: 0.0054 -- test_loss 0.0265\n",
            "Iteration 412 -- train_loss: 0.0054 -- test_loss 0.0265\n",
            "Iteration 414 -- train_loss: 0.0054 -- test_loss 0.0265\n",
            "Iteration 416 -- train_loss: 0.0054 -- test_loss 0.0265\n",
            "Iteration 418 -- train_loss: 0.0053 -- test_loss 0.0265\n",
            "Iteration 420 -- train_loss: 0.0053 -- test_loss 0.0264\n",
            "Iteration 422 -- train_loss: 0.0053 -- test_loss 0.0264\n",
            "Iteration 424 -- train_loss: 0.0052 -- test_loss 0.0264\n",
            "Iteration 426 -- train_loss: 0.0052 -- test_loss 0.0264\n",
            "Iteration 428 -- train_loss: 0.0052 -- test_loss 0.0264\n",
            "Iteration 430 -- train_loss: 0.0052 -- test_loss 0.0264\n",
            "Iteration 432 -- train_loss: 0.0051 -- test_loss 0.0263\n",
            "Iteration 434 -- train_loss: 0.0051 -- test_loss 0.0263\n",
            "Iteration 436 -- train_loss: 0.0051 -- test_loss 0.0263\n",
            "Iteration 438 -- train_loss: 0.0051 -- test_loss 0.0263\n",
            "Iteration 440 -- train_loss: 0.0051 -- test_loss 0.0263\n",
            "Iteration 442 -- train_loss: 0.0050 -- test_loss 0.0263\n",
            "Iteration 444 -- train_loss: 0.0050 -- test_loss 0.0263\n",
            "Iteration 446 -- train_loss: 0.0050 -- test_loss 0.0263\n",
            "Iteration 448 -- train_loss: 0.0050 -- test_loss 0.0262\n",
            "Iteration 450 -- train_loss: 0.0049 -- test_loss 0.0262\n",
            "Iteration 452 -- train_loss: 0.0049 -- test_loss 0.0262\n",
            "Iteration 454 -- train_loss: 0.0049 -- test_loss 0.0262\n",
            "Iteration 456 -- train_loss: 0.0049 -- test_loss 0.0262\n",
            "Iteration 458 -- train_loss: 0.0049 -- test_loss 0.0262\n",
            "Iteration 460 -- train_loss: 0.0048 -- test_loss 0.0262\n",
            "Iteration 462 -- train_loss: 0.0048 -- test_loss 0.0262\n",
            "Iteration 464 -- train_loss: 0.0048 -- test_loss 0.0261\n",
            "Iteration 466 -- train_loss: 0.0048 -- test_loss 0.0261\n",
            "Iteration 468 -- train_loss: 0.0047 -- test_loss 0.0261\n",
            "Iteration 470 -- train_loss: 0.0047 -- test_loss 0.0261\n",
            "Iteration 472 -- train_loss: 0.0047 -- test_loss 0.0261\n",
            "Iteration 474 -- train_loss: 0.0047 -- test_loss 0.0261\n",
            "Iteration 476 -- train_loss: 0.0047 -- test_loss 0.0261\n",
            "Iteration 478 -- train_loss: 0.0046 -- test_loss 0.0261\n",
            "Iteration 480 -- train_loss: 0.0046 -- test_loss 0.0261\n",
            "Iteration 482 -- train_loss: 0.0046 -- test_loss 0.0261\n",
            "Iteration 484 -- train_loss: 0.0046 -- test_loss 0.0260\n",
            "Iteration 486 -- train_loss: 0.0046 -- test_loss 0.0260\n",
            "Iteration 488 -- train_loss: 0.0045 -- test_loss 0.0260\n",
            "Iteration 490 -- train_loss: 0.0045 -- test_loss 0.0260\n",
            "Iteration 492 -- train_loss: 0.0045 -- test_loss 0.0260\n",
            "Iteration 494 -- train_loss: 0.0045 -- test_loss 0.0260\n",
            "Iteration 496 -- train_loss: 0.0045 -- test_loss 0.0260\n",
            "Iteration 498 -- train_loss: 0.0044 -- test_loss 0.0260\n"
          ]
        }
      ],
      "source": [
        "X = X_train_scaled\n",
        "y = y_train_scaled\n",
        "\n",
        "train_losses = []\n",
        "test_losses = []\n",
        "\n",
        "num_iters = 500 # TO COMPLETE\n",
        "learning_rate = 0.01 # TO COMPLETE\n",
        "mse = np.zeros(num_iters)\n",
        "for it in range(num_iters):\n",
        "    for n in range(len(X)):\n",
        "        x_n = np.reshape(X[n], (n_components,1))\n",
        "        y_target = y[n].item()\n",
        "        # TO COMPLETE\n",
        "        h = sigma(np.dot(W_1.T, x_n))\n",
        "        y_out = sigma(np.dot(W_2.T, h).item())\n",
        "        mse[it] += np.square(y_target - y_out)\n",
        "\n",
        "        grad = (y_out - y_target ) * sigmoid_derivative(np.dot(W_2.T, h))  #grad2\n",
        "        grad_dot = np.dot(W_2, grad) * sigmoid_derivative(np.dot(W_1.T, x_n)) # TO COMPLETE #grad1\n",
        "        W_2_delta = -learning_rate*grad*h.T\n",
        "\n",
        "\n",
        "        # Compute grad_W_1sigmoid_derivative and W_1_delta\n",
        "        grad_W_1 = np.dot(W_2,grad) * y_out * (1 - y_out)\n",
        "        W_1_delta = -learning_rate*np.dot(x_n, grad_dot.T)\n",
        "        # ...\n",
        "        # Update the weights\n",
        "        W_1 += W_1_delta\n",
        "        W_2 += W_2_delta.T\n",
        "\n",
        "    mse[it] /= len(X)\n",
        "\n",
        "    y_test_scaled_pred = forward_propagation(X_test_scaled, W_1, W_2)\n",
        "    test_mse = np.mean(np.square(y_test_scaled_pred - y_test_scaled))\n",
        "\n",
        "    train_losses.append(mse[it])\n",
        "    test_losses.append(test_mse)\n",
        "    if it % 2 == 0:\n",
        "      print(f\"Iteration {it} -- train_loss: {mse[it]:.4f} -- test_loss {test_mse:.4f}\")"
      ]
    },
    {
      "cell_type": "code",
      "execution_count": 679,
      "metadata": {
        "id": "Nx5-fJZaupvf",
        "colab": {
          "base_uri": "https://localhost:8080/",
          "height": 430
        },
        "outputId": "2a8203e8-a792-41a9-c26f-8d21f69c5c1d"
      },
      "outputs": [
        {
          "output_type": "display_data",
          "data": {
            "text/plain": [
              "<Figure size 640x480 with 1 Axes>"
            ],
            "image/png": "[encoded data removed]"
          },
          "metadata": {}
        }
      ],
      "source": [
        "# Plot results\n",
        "plt.plot(train_losses, label=\"Train Loss\")\n",
        "plt.plot(test_losses, label=\"Test Loss\")\n",
        "plt.legend()\n",
        "plt.show()"
      ]
    },
    {
      "cell_type": "code",
      "execution_count": 680,
      "metadata": {
        "id": "N1WacLjYOA6Q",
        "colab": {
          "base_uri": "https://localhost:8080/",
          "height": 224
        },
        "outputId": "95ba9135-e060-4c67-f44c-b2a930a72adf"
      },
      "outputs": [
        {
          "output_type": "stream",
          "name": "stdout",
          "text": [
            "Test MSE = 0.025971479749436626, < 0.03? True\n"
          ]
        },
        {
          "output_type": "execute_result",
          "data": {
            "text/plain": [
              "   y_test  y_test_pred\n",
              "0    1604  1604.103487\n",
              "1    1601  1598.698733\n",
              "2    1602  1599.337459\n",
              "3    1598  1603.598782\n",
              "4    1588  1590.606804"
            ],
            "text/html": [
              "\n",
              "  <div id=\"df-74dc64e1-7a8d-4ce5-855a-c8237235fba6\" class=\"colab-df-container\">\n",
              "    <div>\n",
              "<style scoped>\n",
              "    .dataframe tbody tr th:only-of-type {\n",
              "        vertical-align: middle;\n",
              "    }\n",
              "\n",
              "    .dataframe tbody tr th {\n",
              "        vertical-align: top;\n",
              "    }\n",
              "\n",
              "    .dataframe thead th {\n",
              "        text-align: right;\n",
              "    }\n",
              "</style>\n",
              "<table border=\"1\" class=\"dataframe\">\n",
              "  <thead>\n",
              "    <tr style=\"text-align: right;\">\n",
              "      <th></th>\n",
              "      <th>y_test</th>\n",
              "      <th>y_test_pred</th>\n",
              "    </tr>\n",
              "  </thead>\n",
              "  <tbody>\n",
              "    <tr>\n",
              "      <th>0</th>\n",
              "      <td>1604</td>\n",
              "      <td>1604.103487</td>\n",
              "    </tr>\n",
              "    <tr>\n",
              "      <th>1</th>\n",
              "      <td>1601</td>\n",
              "      <td>1598.698733</td>\n",
              "    </tr>\n",
              "    <tr>\n",
              "      <th>2</th>\n",
              "      <td>1602</td>\n",
              "      <td>1599.337459</td>\n",
              "    </tr>\n",
              "    <tr>\n",
              "      <th>3</th>\n",
              "      <td>1598</td>\n",
              "      <td>1603.598782</td>\n",
              "    </tr>\n",
              "    <tr>\n",
              "      <th>4</th>\n",
              "      <td>1588</td>\n",
              "      <td>1590.606804</td>\n",
              "    </tr>\n",
              "  </tbody>\n",
              "</table>\n",
              "</div>\n",
              "    <div class=\"colab-df-buttons\">\n",
              "\n",
              "  <div class=\"colab-df-container\">\n",
              "    <button class=\"colab-df-convert\" onclick=\"convertToInteractive('df-74dc64e1-7a8d-4ce5-855a-c8237235fba6')\"\n",
              "            title=\"Convert this dataframe to an interactive table.\"\n",
              "            style=\"display:none;\">\n",
              "\n",
              "  <svg xmlns=\"http://www.w3.org/2000/svg\" height=\"24px\" viewBox=\"0 -960 960 960\">\n",
              "    <path d=\"M120-120v-720h720v720H120Zm60-500h600v-160H180v160Zm220 220h160v-160H400v160Zm0 220h160v-160H400v160ZM180-400h160v-160H180v160Zm440 0h160v-160H620v160ZM180-180h160v-160H180v160Zm440 0h160v-160H620v160Z\"/>\n",
              "  </svg>\n",
              "    </button>\n",
              "\n",
              "  <style>\n",
              "    .colab-df-container {\n",
              "      display:flex;\n",
              "      gap: 12px;\n",
              "    }\n",
              "\n",
              "    .colab-df-convert {\n",
              "      background-color: #E8F0FE;\n",
              "      border: none;\n",
              "      border-radius: 50%;\n",
              "      cursor: pointer;\n",
              "      display: none;\n",
              "      fill: #1967D2;\n",
              "      height: 32px;\n",
              "      padding: 0 0 0 0;\n",
              "      width: 32px;\n",
              "    }\n",
              "\n",
              "    .colab-df-convert:hover {\n",
              "      background-color: #E2EBFA;\n",
              "      box-shadow: 0px 1px 2px rgba(60, 64, 67, 0.3), 0px 1px 3px 1px rgba(60, 64, 67, 0.15);\n",
              "      fill: #174EA6;\n",
              "    }\n",
              "\n",
              "    .colab-df-buttons div {\n",
              "      margin-bottom: 4px;\n",
              "    }\n",
              "\n",
              "    [theme=dark] .colab-df-convert {\n",
              "      background-color: #3B4455;\n",
              "      fill: #D2E3FC;\n",
              "    }\n",
              "\n",
              "    [theme=dark] .colab-df-convert:hover {\n",
              "      background-color: #434B5C;\n",
              "      box-shadow: 0px 1px 3px 1px rgba(0, 0, 0, 0.15);\n",
              "      filter: drop-shadow(0px 1px 2px rgba(0, 0, 0, 0.3));\n",
              "      fill: #FFFFFF;\n",
              "    }\n",
              "  </style>\n",
              "\n",
              "    <script>\n",
              "      const buttonEl =\n",
              "        document.querySelector('#df-74dc64e1-7a8d-4ce5-855a-c8237235fba6 button.colab-df-convert');\n",
              "      buttonEl.style.display =\n",
              "        google.colab.kernel.accessAllowed ? 'block' : 'none';\n",
              "\n",
              "      async function convertToInteractive(key) {\n",
              "        const element = document.querySelector('#df-74dc64e1-7a8d-4ce5-855a-c8237235fba6');\n",
              "        const dataTable =\n",
              "          await google.colab.kernel.invokeFunction('convertToInteractive',\n",
              "                                                    [key], {});\n",
              "        if (!dataTable) return;\n",
              "\n",
              "        const docLinkHtml = 'Like what you see? Visit the ' +\n",
              "          '<a target=\"_blank\" href=https://colab.research.google.com/notebooks/data_table.ipynb>data table notebook</a>'\n",
              "          + ' to learn more about interactive tables.';\n",
              "        element.innerHTML = '';\n",
              "        dataTable['output_type'] = 'display_data';\n",
              "        await google.colab.output.renderOutput(dataTable, element);\n",
              "        const docLink = document.createElement('div');\n",
              "        docLink.innerHTML = docLinkHtml;\n",
              "        element.appendChild(docLink);\n",
              "      }\n",
              "    </script>\n",
              "  </div>\n",
              "\n",
              "\n",
              "<div id=\"df-8d043a2d-2455-4476-b671-b4ac47c19371\">\n",
              "  <button class=\"colab-df-quickchart\" onclick=\"quickchart('df-8d043a2d-2455-4476-b671-b4ac47c19371')\"\n",
              "            title=\"Suggest charts\"\n",
              "            style=\"display:none;\">\n",
              "\n",
              "<svg xmlns=\"http://www.w3.org/2000/svg\" height=\"24px\"viewBox=\"0 0 24 24\"\n",
              "     width=\"24px\">\n",
              "    <g>\n",
              "        <path d=\"M19 3H5c-1.1 0-2 .9-2 2v14c0 1.1.9 2 2 2h14c1.1 0 2-.9 2-2V5c0-1.1-.9-2-2-2zM9 17H7v-7h2v7zm4 0h-2V7h2v10zm4 0h-2v-4h2v4z\"/>\n",
              "    </g>\n",
              "</svg>\n",
              "  </button>\n",
              "\n",
              "<style>\n",
              "  .colab-df-quickchart {\n",
              "      --bg-color: #E8F0FE;\n",
              "      --fill-color: #1967D2;\n",
              "      --hover-bg-color: #E2EBFA;\n",
              "      --hover-fill-color: #174EA6;\n",
              "      --disabled-fill-color: #AAA;\n",
              "      --disabled-bg-color: #DDD;\n",
              "  }\n",
              "\n",
              "  [theme=dark] .colab-df-quickchart {\n",
              "      --bg-color: #3B4455;\n",
              "      --fill-color: #D2E3FC;\n",
              "      --hover-bg-color: #434B5C;\n",
              "      --hover-fill-color: #FFFFFF;\n",
              "      --disabled-bg-color: #3B4455;\n",
              "      --disabled-fill-color: #666;\n",
              "  }\n",
              "\n",
              "  .colab-df-quickchart {\n",
              "    background-color: var(--bg-color);\n",
              "    border: none;\n",
              "    border-radius: 50%;\n",
              "    cursor: pointer;\n",
              "    display: none;\n",
              "    fill: var(--fill-color);\n",
              "    height: 32px;\n",
              "    padding: 0;\n",
              "    width: 32px;\n",
              "  }\n",
              "\n",
              "  .colab-df-quickchart:hover {\n",
              "    background-color: var(--hover-bg-color);\n",
              "    box-shadow: 0 1px 2px rgba(60, 64, 67, 0.3), 0 1px 3px 1px rgba(60, 64, 67, 0.15);\n",
              "    fill: var(--button-hover-fill-color);\n",
              "  }\n",
              "\n",
              "  .colab-df-quickchart-complete:disabled,\n",
              "  .colab-df-quickchart-complete:disabled:hover {\n",
              "    background-color: var(--disabled-bg-color);\n",
              "    fill: var(--disabled-fill-color);\n",
              "    box-shadow: none;\n",
              "  }\n",
              "\n",
              "  .colab-df-spinner {\n",
              "    border: 2px solid var(--fill-color);\n",
              "    border-color: transparent;\n",
              "    border-bottom-color: var(--fill-color);\n",
              "    animation:\n",
              "      spin 1s steps(1) infinite;\n",
              "  }\n",
              "\n",
              "  @keyframes spin {\n",
              "    0% {\n",
              "      border-color: transparent;\n",
              "      border-bottom-color: var(--fill-color);\n",
              "      border-left-color: var(--fill-color);\n",
              "    }\n",
              "    20% {\n",
              "      border-color: transparent;\n",
              "      border-left-color: var(--fill-color);\n",
              "      border-top-color: var(--fill-color);\n",
              "    }\n",
              "    30% {\n",
              "      border-color: transparent;\n",
              "      border-left-color: var(--fill-color);\n",
              "      border-top-color: var(--fill-color);\n",
              "      border-right-color: var(--fill-color);\n",
              "    }\n",
              "    40% {\n",
              "      border-color: transparent;\n",
              "      border-right-color: var(--fill-color);\n",
              "      border-top-color: var(--fill-color);\n",
              "    }\n",
              "    60% {\n",
              "      border-color: transparent;\n",
              "      border-right-color: var(--fill-color);\n",
              "    }\n",
              "    80% {\n",
              "      border-color: transparent;\n",
              "      border-right-color: var(--fill-color);\n",
              "      border-bottom-color: var(--fill-color);\n",
              "    }\n",
              "    90% {\n",
              "      border-color: transparent;\n",
              "      border-bottom-color: var(--fill-color);\n",
              "    }\n",
              "  }\n",
              "</style>\n",
              "\n",
              "  <script>\n",
              "    async function quickchart(key) {\n",
              "      const quickchartButtonEl =\n",
              "        document.querySelector('#' + key + ' button');\n",
              "      quickchartButtonEl.disabled = true;  // To prevent multiple clicks.\n",
              "      quickchartButtonEl.classList.add('colab-df-spinner');\n",
              "      try {\n",
              "        const charts = await google.colab.kernel.invokeFunction(\n",
              "            'suggestCharts', [key], {});\n",
              "      } catch (error) {\n",
              "        console.error('Error during call to suggestCharts:', error);\n",
              "      }\n",
              "      quickchartButtonEl.classList.remove('colab-df-spinner');\n",
              "      quickchartButtonEl.classList.add('colab-df-quickchart-complete');\n",
              "    }\n",
              "    (() => {\n",
              "      let quickchartButtonEl =\n",
              "        document.querySelector('#df-8d043a2d-2455-4476-b671-b4ac47c19371 button');\n",
              "      quickchartButtonEl.style.display =\n",
              "        google.colab.kernel.accessAllowed ? 'block' : 'none';\n",
              "    })();\n",
              "  </script>\n",
              "</div>\n",
              "    </div>\n",
              "  </div>\n"
            ],
            "application/vnd.google.colaboratory.intrinsic+json": {
              "type": "dataframe",
              "variable_name": "report",
              "summary": "{\n  \"name\": \"report\",\n  \"rows\": 28,\n  \"fields\": [\n    {\n      \"column\": \"y_test\",\n      \"properties\": {\n        \"dtype\": \"number\",\n        \"std\": 7,\n        \"min\": 1587,\n        \"max\": 1610,\n        \"num_unique_values\": 18,\n        \"samples\": [\n          1604,\n          1601,\n          1608\n        ],\n        \"semantic_type\": \"\",\n        \"description\": \"\"\n      }\n    },\n    {\n      \"column\": \"y_test_pred\",\n      \"properties\": {\n        \"dtype\": \"number\",\n        \"std\": 7.293010478132638,\n        \"min\": 1586.0555094492754,\n        \"max\": 1609.0456376970621,\n        \"num_unique_values\": 28,\n        \"samples\": [\n          1606.886121682849,\n          1608.2586860293056,\n          1592.8636551819625\n        ],\n        \"semantic_type\": \"\",\n        \"description\": \"\"\n      }\n    }\n  ]\n}"
            }
          },
          "metadata": {},
          "execution_count": 680
        }
      ],
      "source": [
        "y_test_scaled_pred = forward_propagation(X_test_scaled, W_1, W_2)\n",
        "y_test_pred = reverse(y_test_scaled_pred, y_train_params)\n",
        "\n",
        "# Let's check whether you did all good!\n",
        "success = test_mse < 0.03\n",
        "print(f\"Test MSE = {test_mse}, < 0.03? {success}\")\n",
        "\n",
        "# Finally, let us compare our predicted years with the ground truth\n",
        "report = pd.DataFrame(None)\n",
        "report[\"y_test\"] = y_test.reshape(-1, )\n",
        "report[\"y_test_pred\"] = y_test_pred\n",
        "report.head()"
      ]
    },
    {
      "cell_type": "markdown",
      "metadata": {
        "id": "yUqqhnhlv-Tv"
      },
      "source": [
        "`%ENDCODE`"
      ]
    }
  ],
  "metadata": {
    "colab": {
      "provenance": []
    },
    "kernelspec": {
      "display_name": "Python 3 (ipykernel)",
      "language": "python",
      "name": "python3"
    },
    "language_info": {
      "codemirror_mode": {
        "name": "ipython",
        "version": 3
      },
      "file_extension": ".py",
      "mimetype": "text/x-python",
      "name": "python",
      "nbconvert_exporter": "python",
      "pygments_lexer": "ipython3",
      "version": "3.11.5"
    }
  },
  "nbformat": 4,
  "nbformat_minor": 0
}